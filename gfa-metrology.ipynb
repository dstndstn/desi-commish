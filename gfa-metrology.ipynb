{
 "cells": [
  {
   "cell_type": "code",
   "execution_count": 51,
   "metadata": {},
   "outputs": [],
   "source": [
    "%matplotlib inline\n",
    "import pylab as plt\n",
    "import numpy as np\n",
    "from astrometry.util.fits import *\n",
    "from astrometry.util.util import Tan,Sip\n",
    "from glob import glob\n",
    "import fitsio\n",
    "import sys\n",
    "import os\n",
    "import matplotlib\n",
    "import tractor\n",
    "from tractor.constrained_optimizer import *\n",
    "matplotlib.rcParams['figure.figsize'] = 10,8\n",
    "from scipy.ndimage.filters import gaussian_filter"
   ]
  },
  {
   "cell_type": "code",
   "execution_count": 9,
   "metadata": {},
   "outputs": [],
   "source": [
    "# GFA Metrology results -- GFA#10\n",
    "# https://desi.lbl.gov/DocDB/cgi-bin/private/ShowDocument?docid=4832\n",
    "# Images --\n",
    "# https://desi.lbl.gov/DocDB/cgi-bin/private/RetrieveFile?docid=4832;filename=GFA%2310_GIF-Metrology-images.zip;version=2    "
   ]
  },
  {
   "cell_type": "code",
   "execution_count": 233,
   "metadata": {},
   "outputs": [],
   "source": [
    "def blanton_noise(img):\n",
    "    # Estimate per-pixel noise via Blanton's 5-pixel MAD\n",
    "    slice1 = (slice(0,-5,10),slice(0,-5,10))\n",
    "    slice2 = (slice(5,None,10),slice(5,None,10))\n",
    "    mad = np.median(np.abs(img[slice1] - img[slice2]).ravel())\n",
    "    sig1 = 1.4826 * mad / np.sqrt(2.)\n",
    "    return sig1\n",
    "\n",
    "def measure_gfa_spots(imgdir, ss_text, plots=True, chatty=True):\n",
    "    rows = [row for row in ss_text.split('\\n') if len(row.strip())>0]\n",
    "    words = [row.strip().split('\\t') for row in rows]\n",
    "\n",
    "    def chat(*X):\n",
    "        if chatty:\n",
    "            print(*X)\n",
    "\n",
    "    G = fits_table()\n",
    "            \n",
    "    bgfn = words[0][0]\n",
    "    words = words[1:]\n",
    "    G.img_fn = np.array([w[2] for w in words])\n",
    "    G.mmx = np.array([float(w[0]) for w in words])\n",
    "    G.mmy = np.array([float(w[1]) for w in words])\n",
    "    G.orig_ssx = np.array([float(w[5]) for w in words])\n",
    "    G.orig_ssy = np.array([float(w[6]) for w in words])\n",
    "\n",
    "    G.measx = np.zeros(len(G))\n",
    "    G.measy = np.zeros(len(G))\n",
    "    G.prescan = np.zeros(len(G))\n",
    "    G.overscan = np.zeros(len(G))\n",
    "    G.quadrant = np.zeros(len(G), np.uint8)\n",
    "    \n",
    "    bg = os.path.join(imgdir, bgfn)\n",
    "    Fbg = fitsio.FITS(bg)\n",
    "    bgimgs = [Fbg[i].read() for i in range(1,5)]\n",
    "    ima = dict(interpolation='nearest', origin='lower')\n",
    "    \n",
    "    all_coords = []\n",
    "\n",
    "    for iimg,imgfn in enumerate(G.img_fn):\n",
    "        chat()\n",
    "        chat('Image', imgfn)\n",
    "        fn = os.path.join(imgdir, imgfn) #'IMG_%i.fits' % imgnum)\n",
    "        F = fitsio.FITS(fn)\n",
    "        hdr = F[0].read_header()\n",
    "        prescan = hdr['PRESCAN']\n",
    "        overscan = hdr['OVERSCAN']\n",
    "        #print('Prescan', prescan, 'overscan', overscan)\n",
    "        for q in range(4):\n",
    "            img = F[q+1].read()\n",
    "            hi,wi = img.shape\n",
    "            active = (img - bgimgs[q])[:, prescan:-overscan]\n",
    "            #print('Active area:', active.shape)\n",
    "\n",
    "            active = active - np.median(active)\n",
    "            ah,aw = active.shape\n",
    "            sig1 = blanton_noise(active)\n",
    "\n",
    "            # Mask 8 bad rows at the bottom\n",
    "            active[:8,:] = 0.\n",
    "            \n",
    "            smoo = gaussian_filter(active, 2.)\n",
    "            noise = blanton_noise(smoo)\n",
    "            maxsn = np.max(smoo/noise)\n",
    "            chat('S/N', maxsn)\n",
    "            imax = np.argmax(smoo/noise)\n",
    "            i,j = np.unravel_index(imax, smoo.shape)\n",
    "\n",
    "            if plots:\n",
    "                plt.clf()\n",
    "                plt.imshow(active, vmin=-3.*sig1, vmax=20.*sig1, **ima)\n",
    "                ax = plt.axis()\n",
    "                plt.plot(j, i, 'o', mec='r', ms=20, mfc='none')\n",
    "                plt.show()\n",
    "            \n",
    "            if maxsn < 1000:\n",
    "                continue\n",
    "            chat('At', j,i)\n",
    "            if i<10 or j<10:\n",
    "                chat('Too close to edge')\n",
    "                continue\n",
    "            cutout = active[i-10:i+11, j-10:j+11]\n",
    "\n",
    "            SAT = 25000\n",
    "        \n",
    "            satur = (cutout > SAT)\n",
    "            inverr = np.ones_like(cutout) / sig1\n",
    "            inverr[satur] = 0.\n",
    "        \n",
    "            tim = tractor.Image(data=cutout, inverr=inverr,\n",
    "                               psf=tractor.NCircularGaussianPSF([2.], [1.]))\n",
    "            src = tractor.PointSource(tractor.PixPos(10, 10), tractor.Flux(np.sum(cutout)))\n",
    "            tr = tractor.Tractor([tim], [src], optimizer=ConstrainedOptimizer())\n",
    "            tr.freezeParam('images')\n",
    "            tr.optimize_loop()\n",
    "            #tr.printThawedParams()\n",
    "            tr.thawParam('images')\n",
    "            tim.freezeAllBut('psf')\n",
    "            tim.psf.freezeParam('weights')\n",
    "            tr.optimize_loop()\n",
    "            #tr.printThawedParams()\n",
    "            ox = src.pos.x + j - 10\n",
    "            oy = src.pos.y + i - 10\n",
    "            chat('Optimized position: (%.1f, %.1f)' % (ox, oy))\n",
    "\n",
    "            G.measx[iimg] = ox\n",
    "            G.measy[iimg] = oy\n",
    "            G.prescan[iimg] = prescan\n",
    "            G.overscan[iimg] = overscan\n",
    "            G.quadrant[iimg] = q+1\n",
    "            \n",
    "            #plt.imshow(active, **ima)\n",
    "            #plt.show()\n",
    "            if plots:\n",
    "                plt.clf()\n",
    "                plt.subplot(2,2,1)\n",
    "                mod = tr.getModelImage(0)\n",
    "                mx = max(max(np.minimum(mod, SAT).ravel()), max(cutout.ravel()))\n",
    "                cima = ima.copy()\n",
    "                cima.update(vmin=cutout.min(), vmax=mx)\n",
    "                plt.imshow(cutout, **cima)\n",
    "                plt.xticks([]); plt.yticks([])\n",
    "                plt.subplot(2,2,2)\n",
    "                plt.imshow(mod, **cima)\n",
    "                plt.xticks([]); plt.yticks([])\n",
    "                plt.subplot(2,2,3)\n",
    "                plt.imshow(tr.getChiImage(0), **ima)\n",
    "                plt.xticks([]); plt.yticks([])\n",
    "                plt.subplot(2,2,4)\n",
    "                plt.plot(cutout[:,10], color='b', alpha=0.5, lw=5)\n",
    "                plt.plot(cutout[10,:], color='g', alpha=0.5, lw=5)\n",
    "                plt.plot(mod[:,10], color='b')\n",
    "                plt.plot(mod[10,:], color='g')\n",
    "                plt.show()\n",
    "\n",
    "    G.ssx = np.zeros(len(G))\n",
    "    G.ssy = np.zeros(len(G))\n",
    "\n",
    "    I = np.array([q in [1,4] for q in G.quadrant])\n",
    "    G.ssx[I] = G.measx[I] + G.prescan[I]\n",
    "    I = np.array([q in [2,3] for q in G.quadrant])\n",
    "    G.ssx[I] = 2048 - G.measx[I] + G.prescan[I] + 2 * G.overscan[I]\n",
    "\n",
    "    I = np.array([q in [1,2] for q in G.quadrant])\n",
    "    G.ssy[I] = 1056*2 - G.measy[I]\n",
    "    I = np.array([q in [3,4] for q in G.quadrant])\n",
    "    G.ssy[I] = G.measy[I]\n",
    "\n",
    "    G.mtnx = np.zeros(len(G))\n",
    "    G.mtny = np.zeros(len(G))\n",
    "\n",
    "    I = np.array([q in [1,4] for q in G.quadrant])\n",
    "    G.mtnx[I] = G.measx[I]\n",
    "    I = np.array([q in [2,3] for q in G.quadrant])\n",
    "    G.mtnx[I] = 2047 - G.measx[I]\n",
    "\n",
    "    I = np.array([q in [1,2] for q in G.quadrant])\n",
    "    G.mtny[I] = 2063 - G.measy[I]\n",
    "    I = np.array([q in [3,4] for q in G.quadrant])\n",
    "    G.mtny[I] = G.measy[I]\n",
    "\n",
    "    # The above 'livey' is in the range [0, 2063], ie the real CCD area, but on the mountain,\n",
    "    # there is a mask for the frame transfer; exposed area is half that, 1032.\n",
    "    G.mtny -= 1032/2\n",
    "\n",
    "    N = len(G)\n",
    "    A = np.zeros((N,3))\n",
    "    A[:,0] = 1.\n",
    "    A[:,1] = G.mmx\n",
    "    A[:,2] = G.mmy\n",
    "    r = np.linalg.lstsq(A, G.mtnx, rcond=None)\n",
    "    cx = r[0]\n",
    "    r = np.linalg.lstsq(A, G.mtny, rcond=None)\n",
    "    cy = r[0]\n",
    "\n",
    "    G.fitx = cx[0] + G.mmx*cx[1] + G.mmy*cx[2]\n",
    "    G.fity = cy[0] + G.mmx*cy[1] + G.mmy*cy[2]\n",
    "\n",
    "    print('Scatter from spreadsheet to measured pixel positions: %.1f pixels' %\n",
    "          np.mean(np.hypot(G.orig_ssx - G.ssx, G.orig_ssy - G.ssy)))\n",
    "    print('Scatter from measured to fit positions: %.1f pixels' %\n",
    "          np.mean(np.hypot(G.mtnx - G.fitx, G.mtny - G.fity)))\n",
    "    nbad = np.sum(G.quadrant == 0)\n",
    "    if nbad:\n",
    "        print('Failed to measure a spot in', nbad, 'images:', G.img_fn[G.quadrant == 0])\n",
    "    return G, cx, cy"
   ]
  },
  {
   "cell_type": "code",
   "execution_count": 234,
   "metadata": {},
   "outputs": [
    {
     "name": "stdout",
     "output_type": "stream",
     "text": [
      "Scatter from spreadsheet to measured pixel positions: 1.0 pixels\n",
      "Scatter from measured to fit positions: 0.2 pixels\n"
     ]
    }
   ],
   "source": [
    "spreadsheet_8 = '''\t\tIMG_22.fits\tBackground reference\t\t\t\n",
    "38.5\t58\tIMG_23.fits\tQuadrant 3top right\t50.1\t2113\t548\n",
    "50\t58\tIMG_24.fits\tQuadrant 3top left\t49.7\t1348\t545\n",
    "56.5\t58\tIMG_26.fits\tQuadrant 4 upper right\t49.7\t850\t544\n",
    "67.5\t58\tIMG_27.fits\tQuadrant 4 upper left\t49.6\t117\t541\n",
    "45.5\t63\tIMG_28.fits\tQuadrant 3 lower middle\t50.5\t1646\t880\n",
    "60.75\t63\tIMG_29.fits\tQuadrant 4 lower middle\t49.9\t566\t876\n",
    "60.75\t67\tIMG_30.fits\tQuadrant 1 upper middle\t50.1\t565\t1191\n",
    "45.5\t67\tIMG_31.fits\tQuadrant 2 Upper Middle\t50.2\t1645\t1194\n",
    "38.5\t71\tIMG_32.fits\tQuadrant 2 lower right\t49.9\t2111\t1463\n",
    "50\t71\tIMG_33.fits\tQuadrant 2 lower left\t50.2\t1345\t1460\n",
    "56.5\t71\tIMG_34.fits\tQuadrant 1 lower right\t50.3\t848\t1459\n",
    "67.5\t71\tIMG_35.fits\tQuadrant 1 lower left\t49.9\t115\t1455'''\n",
    "G8,tx8,ty8 = measure_gfa_spots('gfa-metrology-images/8', spreadsheet_8, plots=False, chatty=False)"
   ]
  },
  {
   "cell_type": "code",
   "execution_count": 236,
   "metadata": {},
   "outputs": [
    {
     "name": "stdout",
     "output_type": "stream",
     "text": [
      "Scatter from spreadsheet to measured pixel positions: 1.0 pixels\n",
      "Scatter from measured to fit positions: 0.2 pixels\n"
     ]
    }
   ],
   "source": [
    "spreadsheet_10 = '''\t\tIMG_40.fits\tBackground reference\t47.4\t\t\n",
    "38.5\t58\tIMG_41.fits\tQuadrant 3top right\t47.6\t2112\t537\n",
    "50\t58\tIMG_42.fits\tQuadrant 3top left\t47.5\t1346\t534\n",
    "56.5\t58\tIMG_43.fits\tQuadrant 4 upper right\t47.5\t849\t533\n",
    "67.5\t58\tIMG_44.fits\tQuadrant 4 upper left\t47.4\t116\t530\n",
    "45.5\t63\tIMG_45.fits\tQuadrant 3 lower middle\t47.5\t1645\t869\n",
    "60.75\t63\tIMG_46.fits\tQuadrant 4 lower middle\t47.4\t565\t866\n",
    "60.75\t67\tIMG_47.fits\tQuadrant 1 upper middle\t47.4\t564\t1180\n",
    "45.5\t67\tIMG_48.fits\tQuadrant 2 Upper Middle\t47.5\t1644\t1184\n",
    "38.5\t71\tIMG_49.fits\tQuadrant 2 lower right\t47.6\t2110\t1451\n",
    "50\t71\tIMG_50.fits\tQuadrant 2 lower left\t47.6\t1344\t1449\n",
    "56.5\t71\tIMG_51.fits\tQuadrant 1 lower right\t47.5\t846\t1448\n",
    "67.5\t71\tIMG_52.fits\tQuadrant 1 lower left\t47.5\t114\t1445'''\n",
    "G10,tx10,ty10 = measure_gfa_spots('gfa-metrology-images/10', spreadsheet_10, plots=False, chatty=False)"
   ]
  },
  {
   "cell_type": "code",
   "execution_count": null,
   "metadata": {},
   "outputs": [],
   "source": []
  },
  {
   "cell_type": "code",
   "execution_count": null,
   "metadata": {},
   "outputs": [],
   "source": []
  },
  {
   "cell_type": "code",
   "execution_count": null,
   "metadata": {},
   "outputs": [],
   "source": []
  },
  {
   "cell_type": "code",
   "execution_count": 212,
   "metadata": {},
   "outputs": [
    {
     "name": "stdout",
     "output_type": "stream",
     "text": [
      "Scatter from spreadsheet to measured pixel positions: 1.0 pixels\n",
      "Scatter from measured to fit positions: 0.2 pixels\n"
     ]
    }
   ],
   "source": [
    "G = G8\n"
   ]
  },
  {
   "cell_type": "code",
   "execution_count": 201,
   "metadata": {},
   "outputs": [
    {
     "name": "stdout",
     "output_type": "stream",
     "text": [
      "IMG_23.fits 3 2113.0 548.0 (2114.4, 548.2)\n",
      "IMG_24.fits 3 1348.0 545.0 (1348.5, 545.7)\n",
      "IMG_26.fits 4 850.0 544.0 (850.4, 544.2)\n",
      "IMG_27.fits 4 117.0 541.0 (117.5, 541.0)\n",
      "IMG_28.fits 3 1646.0 880.0 (1646.8, 880.0)\n",
      "IMG_29.fits 4 566.0 876.0 (566.0, 876.4)\n",
      "IMG_30.fits 1 565.0 1191.0 (565.1, 1192.0)\n",
      "IMG_31.fits 2 1645.0 1194.0 (1646.0, 1195.7)\n",
      "IMG_32.fits 2 2111.0 1463.0 (2111.5, 1463.7)\n",
      "IMG_33.fits 2 1345.0 1460.0 (1345.6, 1461.2)\n",
      "IMG_34.fits 1 848.0 1459.0 (847.6, 1459.7)\n",
      "IMG_35.fits 1 115.0 1455.0 (114.6, 1456.4)\n"
     ]
    }
   ],
   "source": [
    "for g in G8:\n",
    "    print(g.img_fn, g.quadrant, g.orig_ssx, g.orig_ssy, '(%.1f, %.1f)' % (g.ssx, g.ssy))"
   ]
  },
  {
   "cell_type": "code",
   "execution_count": 172,
   "metadata": {},
   "outputs": [
    {
     "name": "stdout",
     "output_type": "stream",
     "text": [
      "IMG_23.fits Q3 (47.6, 548.2) (2114.4, 548.2)\n",
      "IMG_24.fits Q3 (813.5, 545.7) (1348.5, 545.7)\n",
      "IMG_26.fits Q4 (800.4, 544.2) (850.4, 544.2)\n",
      "IMG_27.fits Q4 (67.5, 541.0) (117.5, 541.0)\n",
      "IMG_28.fits Q3 (515.2, 880.0) (1646.8, 880.0)\n",
      "IMG_29.fits Q4 (516.0, 876.4) (566.0, 876.4)\n",
      "IMG_30.fits Q1 (515.1, 920.0) (565.1, 1192.0)\n",
      "IMG_31.fits Q2 (516.0, 916.3) (1646.0, 1195.7)\n",
      "IMG_32.fits Q2 (50.5, 648.3) (2111.5, 1463.7)\n",
      "IMG_33.fits Q2 (816.4, 650.8) (1345.6, 1461.2)\n",
      "IMG_34.fits Q1 (797.6, 652.3) (847.6, 1459.7)\n",
      "IMG_35.fits Q1 (64.6, 655.6) (114.6, 1456.4)\n"
     ]
    }
   ],
   "source": [
    "for (imgnum, q, ox,oy, ssx, ssy) in G8:\n",
    "    print(imgnum, 'Q%i'%(q+1), '(%.1f, %.1f)'%(ox,oy), '(%.1f, %.1f)' % (ssx,ssy))"
   ]
  },
  {
   "cell_type": "code",
   "execution_count": 161,
   "metadata": {},
   "outputs": [
    {
     "name": "stdout",
     "output_type": "stream",
     "text": [
      "41 Q3 (49.0, 536.9) (2113.0, 536.9)\n",
      "42 Q3 (814.8, 534.8) (1347.2, 534.8)\n",
      "43 Q4 (799.1, 533.4) (849.1, 533.4)\n",
      "44 Q4 (66.2, 530.6) (116.2, 530.6)\n",
      "45 Q3 (516.4, 868.8) (1645.6, 868.8)\n",
      "46 Q4 (514.7, 865.6) (564.7, 865.6)\n",
      "47 Q1 (513.9, 930.7) (563.9, 1181.3)\n",
      "48 Q2 (517.1, 927.5) (1644.9, 1184.5)\n",
      "49 Q2 (51.4, 659.7) (2110.6, 1452.3)\n",
      "50 Q2 (817.3, 661.9) (1344.7, 1450.1)\n",
      "51 Q1 (796.5, 663.3) (846.5, 1448.7)\n",
      "52 Q1 (63.7, 666.0) (113.7, 1446.0)\n"
     ]
    }
   ],
   "source": [
    "for (imgnum, q, ox,oy, ssx, ssy) in all_coords:\n",
    "    print(imgnum, 'Q%i'%(q+1), '(%.1f, %.1f)'%(ox,oy), '(%.1f, %.1f)' % (ssx,ssy))"
   ]
  },
  {
   "cell_type": "code",
   "execution_count": 90,
   "metadata": {},
   "outputs": [],
   "source": [
    "mmxy = '''38.5\t58\n",
    "50\t58\n",
    "56.5\t58\n",
    "67.5\t58\n",
    "45.5\t63\n",
    "60.75\t63\n",
    "60.75\t67\n",
    "45.5\t67\n",
    "38.5\t71\n",
    "50\t71\n",
    "56.5\t71\n",
    "67.5\t71    \n",
    "'''"
   ]
  },
  {
   "cell_type": "code",
   "execution_count": 99,
   "metadata": {},
   "outputs": [],
   "source": [
    "mmxy = np.array([[float(ww) for ww in w.strip().split('\\t')] for w in mmxy.split('\\n') if len(w.strip())])"
   ]
  },
  {
   "cell_type": "code",
   "execution_count": 100,
   "metadata": {},
   "outputs": [],
   "source": [
    "assert(len(mmxy) == len(all_coords))"
   ]
  },
  {
   "cell_type": "code",
   "execution_count": 108,
   "metadata": {},
   "outputs": [],
   "source": [
    "mmx = mmxy[:,0]\n",
    "mmy = mmxy[:,1]"
   ]
  },
  {
   "cell_type": "code",
   "execution_count": 141,
   "metadata": {},
   "outputs": [
    {
     "name": "stderr",
     "output_type": "stream",
     "text": [
      "/usr/local/lib/python3.7/site-packages/ipykernel_launcher.py:28: FutureWarning: `rcond` parameter will change to the default of machine precision times ``max(M, N)`` where M and N are the input matrix dimensions.\n",
      "To use the future default and silence this warning we advise to pass `rcond=None`, to keep using the old, explicitly pass `rcond=-1`.\n",
      "/usr/local/lib/python3.7/site-packages/ipykernel_launcher.py:30: FutureWarning: `rcond` parameter will change to the default of machine precision times ``max(M, N)`` where M and N are the input matrix dimensions.\n",
      "To use the future default and silence this warning we advise to pass `rcond=None`, to keep using the old, explicitly pass `rcond=-1`.\n"
     ]
    }
   ],
   "source": [
    "ox = np.array([c[2] for c in all_coords])\n",
    "oy = np.array([c[3] for c in all_coords])\n",
    "q = np.array([c[1] for c in all_coords])\n",
    "\n",
    "\n",
    "livex = np.zeros(len(all_coords))\n",
    "livey = np.zeros(len(all_coords))\n",
    "\n",
    "I = np.logical_or(q==0, q==3)\n",
    "livex[I] = ox[I]\n",
    "I = np.logical_or(q==1, q==2)\n",
    "livex[I] = 2047 - ox[I]\n",
    "\n",
    "I = np.logical_or(q==0, q==1)\n",
    "livey[I] = 2063 - oy[I]\n",
    "I = np.logical_or(q==2, q==3)\n",
    "livey[I] = oy[I]\n",
    "\n",
    "# The above 'livey' is in the range [0, 2063], ie the real CCD area, but on the mountain,\n",
    "# there is a mask for the frame transfer; exposed area is half that, 1032.\n",
    "\n",
    "livey -= 1032/2\n",
    "\n",
    "N = len(livex)\n",
    "A = np.zeros((N,3))\n",
    "A[:,0] = 1.\n",
    "A[:,1] = mmx\n",
    "A[:,2] = mmy\n",
    "r = np.linalg.lstsq(A, livex)\n",
    "cx = r[0]\n",
    "r = np.linalg.lstsq(A, livey)\n",
    "cy = r[0]\n",
    "\n",
    "px = cx[0] + mmx*cx[1] + mmy*cx[2]\n",
    "py = cy[0] + mmx*cy[1] + mmy*cy[2]"
   ]
  },
  {
   "cell_type": "code",
   "execution_count": 147,
   "metadata": {},
   "outputs": [
    {
     "data": {
      "text/plain": [
       "(array([ 4.57402926e+03, -6.66177799e+01, -1.92872149e-01]),\n",
       " array([-3.83609377e+03, -2.14180584e-01,  6.66451919e+01]))"
      ]
     },
     "execution_count": 147,
     "metadata": {},
     "output_type": "execute_result"
    }
   ],
   "source": [
    "cx, cy"
   ]
  },
  {
   "cell_type": "code",
   "execution_count": 142,
   "metadata": {},
   "outputs": [
    {
     "data": {
      "text/plain": [
       "887.2905355248804"
      ]
     },
     "execution_count": 142,
     "metadata": {},
     "output_type": "execute_result"
    }
   ],
   "source": [
    "max(livey)"
   ]
  },
  {
   "cell_type": "code",
   "execution_count": 143,
   "metadata": {},
   "outputs": [
    {
     "data": {
      "image/png": "[encoded data removed]",
      "text/plain": [
       "<Figure size 720x576 with 2 Axes>"
      ]
     },
     "metadata": {},
     "output_type": "display_data"
    }
   ],
   "source": [
    "plt.subplot(1,2,1)\n",
    "plt.plot(mmx, mmy, 'bo');\n",
    "plt.subplot(1,2,2)\n",
    "plt.plot(livex, livey, 'rx');\n",
    "for x,y,q in zip(livex, livey, q):\n",
    "    plt.text(x,y,'%i'%q)"
   ]
  },
  {
   "cell_type": "code",
   "execution_count": 144,
   "metadata": {},
   "outputs": [
    {
     "data": {
      "image/png": "[encoded data removed]",
      "text/plain": [
       "<Figure size 720x576 with 1 Axes>"
      ]
     },
     "metadata": {},
     "output_type": "display_data"
    }
   ],
   "source": [
    "plt.plot(mmx, livex, 'bo');\n",
    "plt.plot(mmx, px, 'rx');"
   ]
  },
  {
   "cell_type": "code",
   "execution_count": 145,
   "metadata": {},
   "outputs": [
    {
     "data": {
      "image/png": "[encoded data removed]",
      "text/plain": [
       "<Figure size 720x576 with 1 Axes>"
      ]
     },
     "metadata": {},
     "output_type": "display_data"
    }
   ],
   "source": [
    "plt.plot(mmy, livey, 'bo');\n",
    "plt.plot(mmy, py, 'rx');"
   ]
  },
  {
   "cell_type": "code",
   "execution_count": 146,
   "metadata": {},
   "outputs": [
    {
     "data": {
      "text/plain": [
       "0.2128030695488248"
      ]
     },
     "execution_count": 146,
     "metadata": {},
     "output_type": "execute_result"
    }
   ],
   "source": [
    "np.mean(np.hypot(livex-px, livey-py))"
   ]
  },
  {
   "cell_type": "code",
   "execution_count": 128,
   "metadata": {},
   "outputs": [],
   "source": [
    "F = fitsio.FITS('/tmp/IMG_52.fits')"
   ]
  },
  {
   "cell_type": "code",
   "execution_count": 129,
   "metadata": {},
   "outputs": [],
   "source": [
    "i1 = F[1].read()"
   ]
  },
  {
   "cell_type": "code",
   "execution_count": 130,
   "metadata": {},
   "outputs": [
    {
     "data": {
      "text/plain": [
       "(1056, 1106)"
      ]
     },
     "execution_count": 130,
     "metadata": {},
     "output_type": "execute_result"
    }
   ],
   "source": [
    "i1.shape"
   ]
  },
  {
   "cell_type": "code",
   "execution_count": 131,
   "metadata": {},
   "outputs": [],
   "source": [
    "fitsio.write('/tmp/521.fits', i1)"
   ]
  },
  {
   "cell_type": "code",
   "execution_count": null,
   "metadata": {},
   "outputs": [],
   "source": []
  }
 ],
 "metadata": {
  "kernelspec": {
   "display_name": "Python 3",
   "language": "python",
   "name": "python3"
  },
  "language_info": {
   "codemirror_mode": {
    "name": "ipython",
    "version": 3
   },
   "file_extension": ".py",
   "mimetype": "text/x-python",
   "name": "python",
   "nbconvert_exporter": "python",
   "pygments_lexer": "ipython3",
   "version": "3.7.3"
  }
 },
 "nbformat": 4,
 "nbformat_minor": 4
}
