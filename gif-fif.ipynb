{
 "cells": [
  {
   "cell_type": "code",
   "execution_count": 241,
   "metadata": {},
   "outputs": [],
   "source": [
    "from astrometry.util.fits import *\n",
    "%matplotlib inline\n",
    "import pylab as plt\n",
    "import numpy as np\n",
    "from astrometry.libkd.spherematch import *\n",
    "import json"
   ]
  },
  {
   "cell_type": "code",
   "execution_count": 258,
   "metadata": {},
   "outputs": [],
   "source": [
    "petal_id = 10"
   ]
  },
  {
   "cell_type": "code",
   "execution_count": 265,
   "metadata": {},
   "outputs": [],
   "source": [
    "petal_to_gfa_map = { 4:10,\n",
    "                     5: 5,\n",
    "                     6: 6,\n",
    "                     3: 2,\n",
    "                     8: 7,\n",
    "                     10: 8,\n",
    "                     11: 13,\n",
    "                     2: 1,\n",
    "                     7: 4,\n",
    "                     9: 3,\n",
    "                   }"
   ]
  },
  {
   "cell_type": "code",
   "execution_count": 266,
   "metadata": {},
   "outputs": [],
   "source": [
    "gfa_num = petal_to_gfa_map[petal_id]"
   ]
  },
  {
   "cell_type": "code",
   "execution_count": 259,
   "metadata": {},
   "outputs": [],
   "source": [
    "J = json.load(open('petal-metrology-json/petal%i.json' % petal_id))"
   ]
  },
  {
   "cell_type": "code",
   "execution_count": 273,
   "metadata": {},
   "outputs": [],
   "source": [
    "Fids = fits_table()\n",
    "Fids.name = []\n",
    "Fids.petal_id = []\n",
    "Fids.device_loc = []\n",
    "Fids.xyz = np.zeros((len(J),4,3), np.float32)\n",
    "\n",
    "for i,(k,v) in enumerate(J.items()):\n",
    "    Fids.name.append(k)\n",
    "    Fids.petal_id.append(v['petal_id'])\n",
    "    Fids.device_loc.append(v['device_loc'])\n",
    "    for ipin in range(4):\n",
    "        vv = v['pinhole%i' % (ipin+1)]\n",
    "        Fids.xyz[i, ipin, 0] = vv['x']\n",
    "        Fids.xyz[i, ipin, 1] = vv['y']\n",
    "        Fids.xyz[i, ipin, 2] = vv['z']\n",
    "Fids.to_np_arrays()\n",
    "\n",
    "Fids.x = Fids.xyz[:,:,0]\n",
    "Fids.y = Fids.xyz[:,:,1]\n",
    "Fids.z = Fids.xyz[:,:,2]\n",
    "\n",
    "## MAGIC numbers 541,542 are from DESI-0530 table \"Positioners and Fiducial Locations\"\n",
    "Fids.gif_num = np.array([{541:1, 542:2}.get(d,0) for d in Fids.device_loc])\n",
    "Fids.is_gif = np.array([d in [541, 542] for d in Fids.device_loc])\n",
    "Fids.is_fif = np.logical_not(Fids.is_gif)\n",
    "\n",
    "GIF = Fids[Fids.is_gif]\n",
    "GIF1 = GIF[GIF.gif_num == 1][0]\n",
    "GIF2 = GIF[GIF.gif_num == 2][0]\n"
   ]
  },
  {
   "cell_type": "code",
   "execution_count": 367,
   "metadata": {},
   "outputs": [
    {
     "data": {
      "image/png": "[encoded data removed]",
      "text/plain": [
       "<Figure size 432x288 with 1 Axes>"
      ]
     },
     "metadata": {},
     "output_type": "display_data"
    }
   ],
   "source": [
    "I = Fids.is_fif\n",
    "plt.plot(Fids.x[I,:], Fids.y[I,:], 'b.')\n",
    "#I = Fids.is_gif\n",
    "#plt.plot(Fids.x[I,:], Fids.y[I,:], 'r.');\n",
    "plt.plot(GIF1.x, GIF1.y, 'r.')\n",
    "plt.plot(GIF2.x, GIF2.y, 'm.');"
   ]
  },
  {
   "cell_type": "code",
   "execution_count": 368,
   "metadata": {},
   "outputs": [
    {
     "data": {
      "image/png": "[encoded data removed]",
      "text/plain": [
       "<Figure size 432x288 with 1 Axes>"
      ]
     },
     "metadata": {},
     "output_type": "display_data"
    }
   ],
   "source": [
    "plt.plot(GIF1.x, GIF1.y, 'r.')\n",
    "plt.plot(GIF2.x, GIF2.y, 'b.')\n",
    "plt.axis('equal');"
   ]
  },
  {
   "cell_type": "code",
   "execution_count": 369,
   "metadata": {},
   "outputs": [],
   "source": [
    "T = fits_table('gfa-metrology-transforms.fits')"
   ]
  },
  {
   "cell_type": "code",
   "execution_count": 425,
   "metadata": {},
   "outputs": [],
   "source": [
    "Ti = T[T.gfa_num == gfa_num][0]"
   ]
  },
  {
   "cell_type": "code",
   "execution_count": 426,
   "metadata": {},
   "outputs": [
    {
     "data": {
      "image/png": "[encoded data removed]",
      "text/plain": [
       "<Figure size 432x288 with 1 Axes>"
      ]
     },
     "metadata": {},
     "output_type": "display_data"
    }
   ],
   "source": [
    "plt.plot(Ti.gif_1_mm_x, Ti.gif_1_mm_y, 'r.')\n",
    "plt.plot(Ti.gif_2_mm_x, Ti.gif_2_mm_y, 'b.')\n",
    "plt.axis('equal');"
   ]
  },
  {
   "cell_type": "code",
   "execution_count": 427,
   "metadata": {},
   "outputs": [],
   "source": [
    "G1,G2 = GIF1,GIF2\n",
    "v1 = np.array([np.mean(G1.x), np.mean(G1.y)])\n",
    "v2 = np.array([np.mean(G2.x), np.mean(G2.y)])\n",
    "vc = (v1 + v2) / 2.\n",
    "dv = v2 - v1\n",
    "p1 = np.array([np.mean(Ti.gif_1_mm_x), np.mean(Ti.gif_1_mm_y)])\n",
    "p2 = np.array([np.mean(Ti.gif_2_mm_x), np.mean(Ti.gif_2_mm_y)])\n",
    "pc = (p1 + p2) / 2.\n",
    "dp = p2 - p1\n",
    "th1 = np.arctan2(dv[1], dv[0])\n",
    "th2 = np.arctan2(dp[1], dp[0])\n",
    "dth = th2 - th1\n",
    "R = np.array([[np.cos(dth), np.sin(dth)],[-np.sin(dth), np.cos(dth)]])\n",
    "S = np.sqrt(np.sum(dv**2)) / np.sqrt(np.sum(dp**2))\n",
    "M = np.zeros((2,3), np.float32)\n",
    "M[:2,:2] = R * S\n",
    "M[:,2] = vc\n",
    "MI = np.zeros((2,3), np.float32)\n",
    "MI[:2,:2] = R.T / S\n",
    "MI[:,2] = pc\n",
    "\n",
    "def gfa_mm_to_focal_mm(gfax, gfay):\n",
    "    gfax = gfax.ravel()\n",
    "    gfay = gfay.ravel()\n",
    "    N = len(gfax)\n",
    "    v = np.zeros((3,N))\n",
    "    v[0,:] = gfax - pc[0]\n",
    "    v[1,:] = gfay - pc[1]\n",
    "    v[2,:] = 1.\n",
    "    xy = np.matmul(M, v)\n",
    "    return xy[0,:], xy[1,:]\n",
    "\n",
    "def focal_mm_to_gfa_mm(x, y):\n",
    "    x = x.ravel()\n",
    "    y = y.ravel()\n",
    "    N = len(x)\n",
    "    v = np.zeros((3,N))\n",
    "    v[0,:] = x - vc[0]\n",
    "    v[1,:] = y - vc[1]\n",
    "    v[2,:] = 1.\n",
    "    xy = np.matmul(MI, v)\n",
    "    return xy[0,:], xy[1,:]\n",
    "\n",
    "def gfa_mm_to_gfa_pix(x, y):\n",
    "    return (\n",
    "        Ti.pix_x_coeffs[0] + Ti.pix_x_coeffs[1] * x + Ti.pix_x_coeffs[2] * y,\n",
    "        Ti.pix_y_coeffs[0] + Ti.pix_y_coeffs[1] * x + Ti.pix_y_coeffs[2] * y)\n",
    "\n",
    "def gfa_pix_to_gfa_mm(x, y):\n",
    "    return (\n",
    "        Ti.mm_x_coeffs[0] + Ti.mm_x_coeffs[1] * x + Ti.mm_x_coeffs[2] * y,\n",
    "        Ti.mm_y_coeffs[0] + Ti.mm_y_coeffs[1] * x + Ti.mm_y_coeffs[2] * y)\n",
    "\n",
    "def focal_mm_to_gfa_pix(x, y):\n",
    "    gx,gy = focal_mm_to_gfa_mm(x, y)\n",
    "    return gfa_mm_to_gfa_pix(gx, gy)\n",
    "\n",
    "def gfa_pix_to_focal_mm(x, y):\n",
    "    gx,gy = gfa_pix_to_gfa_mm(x, y)\n",
    "    return gfa_mm_to_focal_mm(gx, gy)\n"
   ]
  },
  {
   "cell_type": "code",
   "execution_count": 433,
   "metadata": {},
   "outputs": [],
   "source": [
    "g1x,g1y = gfa_mm_to_focal_mm(Ti.gif_1_mm_x, Ti.gif_1_mm_y)\n",
    "g2x,g2y = gfa_mm_to_focal_mm(Ti.gif_2_mm_x, Ti.gif_2_mm_y)"
   ]
  },
  {
   "cell_type": "code",
   "execution_count": 434,
   "metadata": {},
   "outputs": [],
   "source": [
    "w,h = 2048, 1032\n",
    "ccdbx = np.array([0.5, 0.5, w+0.5, w+0.5, 0.5])\n",
    "ccdby = np.array([0.5, h+0.5, h+0.5, 0.5, 0.5])\n",
    "cbx,cby = gfa_pix_to_focal_mm(ccdbx, ccdby)"
   ]
  },
  {
   "cell_type": "code",
   "execution_count": 435,
   "metadata": {},
   "outputs": [
    {
     "data": {
      "image/png": "[encoded data removed]",
      "text/plain": [
       "<Figure size 432x288 with 1 Axes>"
      ]
     },
     "metadata": {},
     "output_type": "display_data"
    }
   ],
   "source": [
    "plt.plot(cbx, cby, 'k-')\n",
    "plt.plot(g1x, g1y, 'kx')\n",
    "plt.plot(G1.x, G1.y, 'r.')\n",
    "plt.plot(g2x, g2y, 'gx')\n",
    "plt.plot(G2.x, G2.y, 'b.')\n",
    "plt.axis('equal');"
   ]
  },
  {
   "cell_type": "code",
   "execution_count": 436,
   "metadata": {},
   "outputs": [
    {
     "data": {
      "image/png": "[encoded data removed]",
      "text/plain": [
       "<Figure size 432x288 with 1 Axes>"
      ]
     },
     "metadata": {},
     "output_type": "display_data"
    }
   ],
   "source": [
    "plt.plot(g1x, g1y, 'kx')\n",
    "plt.plot(G1.x, G1.y, 'r.')\n",
    "plt.axis('equal');"
   ]
  },
  {
   "cell_type": "code",
   "execution_count": 437,
   "metadata": {},
   "outputs": [
    {
     "data": {
      "image/png": "[encoded data removed]",
      "text/plain": [
       "<Figure size 432x288 with 1 Axes>"
      ]
     },
     "metadata": {},
     "output_type": "display_data"
    }
   ],
   "source": [
    "plt.plot(g2x, g2y, 'gx')\n",
    "plt.plot(G2.x, G2.y, 'b.')\n",
    "plt.axis('equal');"
   ]
  },
  {
   "cell_type": "code",
   "execution_count": 438,
   "metadata": {},
   "outputs": [
    {
     "data": {
      "image/png": "[encoded data removed]",
      "text/plain": [
       "<Figure size 432x288 with 1 Axes>"
      ]
     },
     "metadata": {},
     "output_type": "display_data"
    }
   ],
   "source": [
    "g1cx,g1cy = focal_mm_to_gfa_mm(G1.x, G1.y)\n",
    "g2cx,g2cy = focal_mm_to_gfa_mm(G2.x, G2.y)\n",
    "plt.plot(Ti.gif_1_mm_x, Ti.gif_1_mm_y, 'kx')\n",
    "plt.plot(g1cx, g1cy, 'r.')\n",
    "plt.plot(Ti.gif_2_mm_x, Ti.gif_2_mm_y, 'gx')\n",
    "plt.plot(g2cx, g2cy, 'b.')\n",
    "plt.axis('equal');"
   ]
  },
  {
   "cell_type": "code",
   "execution_count": null,
   "metadata": {},
   "outputs": [],
   "source": []
  },
  {
   "cell_type": "code",
   "execution_count": null,
   "metadata": {},
   "outputs": [],
   "source": []
  },
  {
   "cell_type": "code",
   "execution_count": null,
   "metadata": {},
   "outputs": [],
   "source": []
  },
  {
   "cell_type": "code",
   "execution_count": null,
   "metadata": {},
   "outputs": [],
   "source": []
  },
  {
   "cell_type": "code",
   "execution_count": null,
   "metadata": {},
   "outputs": [],
   "source": []
  },
  {
   "cell_type": "code",
   "execution_count": null,
   "metadata": {},
   "outputs": [],
   "source": []
  },
  {
   "cell_type": "code",
   "execution_count": 2,
   "metadata": {},
   "outputs": [],
   "source": [
    "def parse_fif_metrology(ss, xyzcol=3):\n",
    "    lines = ss.split('\\n')\n",
    "    # blocks of\n",
    "    #   Device ID\t\tNutation\tX\tY\tZ\n",
    "    #   11   FIF...  .\n",
    "    #   __   FIF-1   .  x  y  z\n",
    "    #   __   FIF-2   .  x  y  z\n",
    "    #   __   FIF-3   .  x  y  z\n",
    "    #   __   FIF-4   .  x  y  z\n",
    "    locations = []\n",
    "    device_id = None\n",
    "    for line in lines:\n",
    "        words = line.split('\\t')\n",
    "        if len(words[0]):\n",
    "            device_id = int(words[0])\n",
    "            #print('Start of device_id', device_id)\n",
    "            continue\n",
    "        fifname = words[1]\n",
    "        x = float(words[xyzcol+0])\n",
    "        y = float(words[xyzcol+1])\n",
    "        z = float(words[xyzcol+2])\n",
    "        locations.append((device_id, fifname, x, y, z))\n",
    "        #print('Added', locations[-1])\n",
    "    return locations"
   ]
  },
  {
   "cell_type": "code",
   "execution_count": 3,
   "metadata": {},
   "outputs": [],
   "source": [
    "# DESI-4900-like petal metrology report\n",
    "# Fiducial Locations\t\tCAD Nominal - DESI-530\t\t\t\tAs Built Measured ABC Locations\t\t\t\n",
    "# Device ID\t\tX\tY\tZ\tNutation\tX\tY\tZ\tNutation*\n",
    "petal10_ss = '''11\tFIF - Nominal\t54.182759\t32.395574\t-0.404797\t0.558629\t-\t-\t-\t-\n",
    "\tFIF-1\t\t\t\t\t53.53707378\t31.67531386\t-0.49039736\t0\n",
    "\tFIF-2\t\t\t\t\t53.59760823\t33.2673462\t-0.51567404\t0\n",
    "\tFIF-3\t\t\t\t\t54.16753503\t32.44612536\t-0.4959514\t0\n",
    "\tFIF-4\t\t\t\t\t54.798828\t33.2236833\t-0.52386702\t0\n",
    "75\tFIF\t153.098887\t41.393265\t-2.666555\t1.468928\t-\t-\t-\t-\n",
    "\tFIF-1\t\t\t\t\t152.216717\t40.91941123\t-2.73045012\t2.5\n",
    "\tFIF-2\t\t\t\t\t153.8155985\t40.79885277\t-2.76925636\t2.5\n",
    "\tFIF-3\t\t\t\t\t152.309935\t42.11710443\t-2.74139454\t2.5\n",
    "\tFIF-4\t\t\t\t\t153.0632278\t41.4579716\t-2.73779764\t2.5\n",
    "150\tFIF - Nominal\t241.627317\t14.223609\t-6.401469\t2.438354\t-\t-\t-\t-\n",
    "\tFIF-1\t\t\t\t\t242.3362464\t13.59777436\t-6.5733035\t2.5\n",
    "\tFIF-2\t\t\t\t\t241.5869121\t14.25962724\t-6.5391511\t2.5\n",
    "\tFIF-3\t\t\t\t\t242.4326801\t14.79237046\t-6.59222238\t2.5\n",
    "\tFIF-4\t\t\t\t\t240.8396335\t14.9223488\t-6.51606648\t2.5\n",
    "239\tFIF - Nominal\t215.603297\t149.76275\t-7.5611\t2.721304\t-\t-\t-\t-\n",
    "\tFIF-1\t\t\t\t\t216.5570119\t149.5900592\t-7.72826258\t2.5\n",
    "\tFIF-2\t\t\t\t\t215.0814469\t148.9757457\t-7.64567126\t2.5\n",
    "\tFIF-3\t\t\t\t\t215.5885014\t149.8360882\t-7.6754313\t2.5\n",
    "\tFIF-4\t\t\t\t\t214.6200293\t150.0835711\t-7.66948486\t2.5\n",
    "321\tFIF - Nominal\t304.144678\t86.3733\t-11.041361\t3.59798\t-\t-\t-\t-\n",
    "\tFIF-1\t\t\t\t\t304.2767854\t87.43062162\t-11.19632002\t2.5\n",
    "\tFIF-2\t\t\t\t\t304.0967435\t86.4481306\t-11.1447229\t2.5\n",
    "\tFIF-3\t\t\t\t\t303.2081456\t86.89916092\t-11.10996768\t2.5\n",
    "\tFIF-4\t\t\t\t\t303.9144193\t85.46516166\t-11.1248121\t2.5\n",
    "439\tFIF - Nominal\t409.474266\t14.197003\t-18.898949\t5.938152\t-\t-\t-\t-\n",
    "\tFIF-1\t\t\t\t\t410.0249639\t13.50194832\t-19.06526812\t5\n",
    "\tFIF-2\t\t\t\t\t408.8259474\t15.09830668\t-18.9427829\t5\n",
    "\tFIF-3\t\t\t\t\t409.4247104\t14.30017418\t-18.99669898\t5\n",
    "\tFIF-4\t\t\t\t\t410.3516814\t14.65544312\t-19.1324513\t5\n",
    "482\tFIF - Nominal\t404.225409\t59.321591\t-18.784086\t5.899207\t-\t-\t-\t-\n",
    "\tFIF-1\t\t\t\t\t403.2586227\t59.63139484\t-18.78808842\t5\n",
    "\tFIF-2\t\t\t\t\t404.2752017\t58.40566104\t-18.87215428\t5\n",
    "\tFIF-3\t\t\t\t\t404.1657397\t60.40293576\t-18.89902864\t5\n",
    "\tFIF-4\t\t\t\t\t404.221496\t59.40499994\t-18.87956606\t5\n",
    "496\tFIF - Nominal\t330.848478\t185.657667\t-16.056824\t5.018809\t-\t-\t-\t-\n",
    "\tFIF-1\t\t\t\t\t330.3591728\t184.736043\t-16.11667828\t5\n",
    "\tFIF-2\t\t\t\t\t330.1907792\t186.3259628\t-16.17344754\t5\n",
    "\tFIF-3\t\t\t\t\t330.8709126\t185.59227\t-16.18182028\t5\n",
    "\tFIF-4\t\t\t\t\t331.3798498\t186.4489494\t-16.27823776\t5\n",
    "517\tFIF - Nominal\t393.926712\t113.390039\t-18.918818\t5.944905\t-\t-\t-\t-\n",
    "\tFIF-1\t\t\t\t\t394.7998775\t113.8930899\t-19.15230482\t5\n",
    "\tFIF-2\t\t\t\t\t393.9121572\t113.4362107\t-19.02610196\t5\n",
    "\tFIF-3\t\t\t\t\t393.7226149\t114.4173768\t-19.05234244\t5\n",
    "\tFIF-4\t\t\t\t\t393.0295732\t112.9794384\t-18.9283685\t5\n",
    "534\tFIF - Nominal\t367.822967\t176.645359\t-18.733541\t5.882117\t-\t-\t-\t-\n",
    "\tFIF-1\t\t\t\t\t368.4114369\t175.9801096\t-18.8574913\t5\n",
    "\tFIF-2\t\t\t\t\t367.7372617\t176.7209994\t-18.81590146\t5\n",
    "\tFIF-3\t\t\t\t\t368.626061\t177.1632083\t-18.95653578\t5\n",
    "\tFIF-4\t\t\t\t\t367.0644185\t177.4537401\t-18.8012059\t5\n",
    "541\tGIF - Nominal\t295.568779\t207.45146\t-14.494325\t5.361546\t-\t-\t-\t-\n",
    "\tGIF-1\t\t\t\t\t296.1642755\t208.1220476\t-14.85529488\t5\n",
    "\tGIF-2\t\t\t\t\t294.5711798\t208.0948506\t-14.7114935\t5\n",
    "\tGIF-3\t\t\t\t\t296.1898129\t206.9241777\t-14.77474888\t5\n",
    "\tGIF-4\t\t\t\t\t295.3794394\t207.5095688\t-14.7288277\t5\n",
    "542\tGIF - Nominal\t357.223911\t202.680763\t-19.097053\t5.361546\t-\t-\t-\t-\n",
    "\tGIF-1\t\t\t\t\t357.3089606\t201.9954298\t-19.3228546\t5\n",
    "\tGIF-2\t\t\t\t\t356.7345915\t202.8122636\t-19.32597056\t5\n",
    "\tGIF-3\t\t\t\t\t356.1551442\t203.6290222\t-19.3597987\t5\n",
    "\tGIF-4\t\t\t\t\t355.7863529\t202.4901489\t-19.2501465\t5'''"
   ]
  },
  {
   "cell_type": "code",
   "execution_count": 4,
   "metadata": {},
   "outputs": [],
   "source": [
    "locs = parse_fif_metrology(petal10_ss, xyzcol=6)\n",
    "gfanum = 5"
   ]
  },
  {
   "cell_type": "code",
   "execution_count": 5,
   "metadata": {},
   "outputs": [
    {
     "data": {
      "text/plain": [
       "[(11, 'FIF-1', 53.53707378, 31.67531386, -0.49039736),\n",
       " (11, 'FIF-2', 53.59760823, 33.2673462, -0.51567404),\n",
       " (11, 'FIF-3', 54.16753503, 32.44612536, -0.4959514),\n",
       " (11, 'FIF-4', 54.798828, 33.2236833, -0.52386702),\n",
       " (75, 'FIF-1', 152.216717, 40.91941123, -2.73045012),\n",
       " (75, 'FIF-2', 153.8155985, 40.79885277, -2.76925636),\n",
       " (75, 'FIF-3', 152.309935, 42.11710443, -2.74139454),\n",
       " (75, 'FIF-4', 153.0632278, 41.4579716, -2.73779764),\n",
       " (150, 'FIF-1', 242.3362464, 13.59777436, -6.5733035),\n",
       " (150, 'FIF-2', 241.5869121, 14.25962724, -6.5391511),\n",
       " (150, 'FIF-3', 242.4326801, 14.79237046, -6.59222238),\n",
       " (150, 'FIF-4', 240.8396335, 14.9223488, -6.51606648),\n",
       " (239, 'FIF-1', 216.5570119, 149.5900592, -7.72826258),\n",
       " (239, 'FIF-2', 215.0814469, 148.9757457, -7.64567126),\n",
       " (239, 'FIF-3', 215.5885014, 149.8360882, -7.6754313),\n",
       " (239, 'FIF-4', 214.6200293, 150.0835711, -7.66948486),\n",
       " (321, 'FIF-1', 304.2767854, 87.43062162, -11.19632002),\n",
       " (321, 'FIF-2', 304.0967435, 86.4481306, -11.1447229),\n",
       " (321, 'FIF-3', 303.2081456, 86.89916092, -11.10996768),\n",
       " (321, 'FIF-4', 303.9144193, 85.46516166, -11.1248121),\n",
       " (439, 'FIF-1', 410.0249639, 13.50194832, -19.06526812),\n",
       " (439, 'FIF-2', 408.8259474, 15.09830668, -18.9427829),\n",
       " (439, 'FIF-3', 409.4247104, 14.30017418, -18.99669898),\n",
       " (439, 'FIF-4', 410.3516814, 14.65544312, -19.1324513),\n",
       " (482, 'FIF-1', 403.2586227, 59.63139484, -18.78808842),\n",
       " (482, 'FIF-2', 404.2752017, 58.40566104, -18.87215428),\n",
       " (482, 'FIF-3', 404.1657397, 60.40293576, -18.89902864),\n",
       " (482, 'FIF-4', 404.221496, 59.40499994, -18.87956606),\n",
       " (496, 'FIF-1', 330.3591728, 184.736043, -16.11667828),\n",
       " (496, 'FIF-2', 330.1907792, 186.3259628, -16.17344754),\n",
       " (496, 'FIF-3', 330.8709126, 185.59227, -16.18182028),\n",
       " (496, 'FIF-4', 331.3798498, 186.4489494, -16.27823776),\n",
       " (517, 'FIF-1', 394.7998775, 113.8930899, -19.15230482),\n",
       " (517, 'FIF-2', 393.9121572, 113.4362107, -19.02610196),\n",
       " (517, 'FIF-3', 393.7226149, 114.4173768, -19.05234244),\n",
       " (517, 'FIF-4', 393.0295732, 112.9794384, -18.9283685),\n",
       " (534, 'FIF-1', 368.4114369, 175.9801096, -18.8574913),\n",
       " (534, 'FIF-2', 367.7372617, 176.7209994, -18.81590146),\n",
       " (534, 'FIF-3', 368.626061, 177.1632083, -18.95653578),\n",
       " (534, 'FIF-4', 367.0644185, 177.4537401, -18.8012059),\n",
       " (541, 'GIF-1', 296.1642755, 208.1220476, -14.85529488),\n",
       " (541, 'GIF-2', 294.5711798, 208.0948506, -14.7114935),\n",
       " (541, 'GIF-3', 296.1898129, 206.9241777, -14.77474888),\n",
       " (541, 'GIF-4', 295.3794394, 207.5095688, -14.7288277),\n",
       " (542, 'GIF-1', 357.3089606, 201.9954298, -19.3228546),\n",
       " (542, 'GIF-2', 356.7345915, 202.8122636, -19.32597056),\n",
       " (542, 'GIF-3', 356.1551442, 203.6290222, -19.3597987),\n",
       " (542, 'GIF-4', 355.7863529, 202.4901489, -19.2501465)]"
      ]
     },
     "execution_count": 5,
     "metadata": {},
     "output_type": "execute_result"
    }
   ],
   "source": [
    "locs"
   ]
  },
  {
   "cell_type": "code",
   "execution_count": 6,
   "metadata": {},
   "outputs": [],
   "source": [
    "# DESI-4900-v1, FPP Metrology Traveler\n",
    "petal4_ss = '''11\tFIF - Nominal\t0.558629\t-\t-\t-\n",
    "\tFIF-1\t\t54.99320684\t31.66342124\t-0.4832456\n",
    "\tFIF-2\t\t54.66108038\t33.22834094\t-0.48150216\n",
    "\tFIF-3\t\t53.8205475\t31.41592892\t-0.46692556\n",
    "\tFIF-4\t\t54.24102252\t32.32175516\t-0.46346552\n",
    "75\tFIF\t1.468928\t-\t-\t-\n",
    "\tFIF-1\t\t153.6655444\t40.53854118\t-2.76179524\n",
    "\tFIF-2\t\t152.1792322\t41.13017484\t-2.73044028\n",
    "\tFIF-3\t\t153.1447301\t41.3911849\t-2.70634114\n",
    "\tFIF-4\t\t152.6233363\t42.24702992\t-2.7500575\n",
    "150\tFIF - Nominal\t2.438354\t-\t-\t-\n",
    "\tFIF-1\t\t242.0584188\t13.44506926\t-6.52596054\n",
    "\tFIF-2\t\t240.5745214\t14.05297984\t-6.4686484\n",
    "\tFIF-3\t\t241.5454931\t14.30400434\t-6.48251838\n",
    "\tFIF-4\t\t241.0287922\t15.16329708\t-6.49269392\n",
    "239\tFIF - Nominal\t2.721304\t-\t-\t-\n",
    "\tFIF-1\t\t216.160398\t149.040522\t-7.6842387\n",
    "\tFIF-2\t\t215.5298596\t149.8197567\t-7.67006476\n",
    "\tFIF-3\t\t216.4487246\t150.2080576\t-7.73927368\n",
    "\tFIF-4\t\t214.8969753\t150.596674\t-7.6932011\n",
    "321\tFIF - Nominal\t3.59798\t-\t-\t-\n",
    "\tFIF-1\t\t303.5907464\t85.55415992\t-11.11969222\n",
    "\tFIF-2\t\t305.0359665\t86.23267124\t-11.23974664\n",
    "\tFIF-3\t\t303.0822399\t86.64025808\t-11.11163798\n",
    "\tFIF-4\t\t304.0601071\t86.43562262\t-11.14626722\n",
    "439\tFIF - Nominal\t5.938152\t-\t-\t-\n",
    "\tFIF-1\t\t409.5927299\t13.2403604\t-18.9921804\n",
    "\tFIF-2\t\t409.3322864\t14.2057119\t-18.96055436\n",
    "\tFIF-3\t\t410.3263092\t14.18319856\t-19.08722\n",
    "\tFIF-4\t\t409.0730445\t15.16975794\t-18.9448229\n",
    "482\tFIF - Nominal\t5.899207\t-\t-\t-\n",
    "\tFIF-1\t\t403.3506943\t58.75264552\t-18.77592004\n",
    "\tFIF-2\t\t403.7968974\t60.28564522\t-18.85050358\n",
    "\tFIF-3\t\t404.1463548\t59.34724298\t-18.86043072\n",
    "\tFIF-4\t\t404.9422351\t59.94678856\t-18.97919554\n",
    "496\tFIF - Nominal\t5.018809\t-\t-\t-\n",
    "\tFIF-1\t\t330.789483\t184.7610689\t-16.09504796\n",
    "\tFIF-2\t\t331.7595591\t186.0265571\t-16.2543277\n",
    "\tFIF-3\t\t329.8395886\t185.4963188\t-16.06336422\n",
    "\tFIF-4\t\t330.7999302\t185.7593643\t-16.129651\n",
    "517\tFIF - Nominal\t5.944905\t-\t-\t-\n",
    "\tFIF-1\t\t394.721569\t112.9105187\t-18.9725828\n",
    "\tFIF-2\t\t394.0696699\t114.3705027\t-18.95131174\n",
    "\tFIF-3\t\t393.6315725\t112.4219632\t-18.83310524\n",
    "\tFIF-4\t\t393.8509971\t113.3954651\t-18.8806721\n",
    "534\tFIF - Nominal\t5.882117\t-\t-\t-\n",
    "\tFIF-1\t\t368.3195078\t175.8212253\t-18.8337331\n",
    "\tFIF-2\t\t367.7548072\t176.68145\t-18.81281684\n",
    "\tFIF-3\t\t368.7116517\t176.95468\t-18.9406768\n",
    "\tFIF-4\t\t367.2206515\t177.5264103\t-18.80629292\n",
    "541\tGIF - Nominal\t5.361546\t-\t-\t-\n",
    "\tGIF-1\t\t295.3605812\t206.2097342\t-14.60754158\n",
    "\tGIF-2\t\t294.2949159\t207.4048371\t-14.60875232\n",
    "\tGIF-3\t\t295.2732336\t207.2060213\t-14.6438099\n",
    "\tGIF-4\t\t295.1867222\t208.2015807\t-14.72795736\n",
    "542\tGIF - Nominal\t5.361546\t-\t-\t-\n",
    "\tGIF-1\t\t356.8290036\t201.7718\t-19.23479474\n",
    "\tGIF-2\t\t356.5695239\t203.3503807\t-19.30996078\n",
    "\tGIF-3\t\t357.2882466\t202.6556593\t-19.31089874\n",
    "\tGIF-4\t\t357.7477894\t203.5378982\t-19.43406316'''"
   ]
  },
  {
   "cell_type": "code",
   "execution_count": 7,
   "metadata": {},
   "outputs": [],
   "source": [
    "locs = parse_fif_metrology(petal4_ss)\n",
    "gfanum = 10"
   ]
  },
  {
   "cell_type": "code",
   "execution_count": 8,
   "metadata": {},
   "outputs": [
    {
     "data": {
      "text/plain": [
       "(542, 'GIF-4', 357.7477894, 203.5378982, -19.43406316)"
      ]
     },
     "execution_count": 8,
     "metadata": {},
     "output_type": "execute_result"
    }
   ],
   "source": [
    "locs[-1]"
   ]
  },
  {
   "cell_type": "code",
   "execution_count": 9,
   "metadata": {},
   "outputs": [
    {
     "data": {
      "text/plain": [
       "(48, 3)"
      ]
     },
     "execution_count": 9,
     "metadata": {},
     "output_type": "execute_result"
    }
   ],
   "source": [
    "xyz = np.array([l[2:] for l in locs])\n",
    "xyz.shape"
   ]
  },
  {
   "cell_type": "code",
   "execution_count": 10,
   "metadata": {},
   "outputs": [
    {
     "data": {
      "image/png": "[encoded data removed]",
      "text/plain": [
       "<Figure size 432x288 with 1 Axes>"
      ]
     },
     "metadata": {},
     "output_type": "display_data"
    }
   ],
   "source": [
    "plt.scatter(xyz[:,0], xyz[:,1], c=xyz[:,2]);"
   ]
  },
  {
   "cell_type": "code",
   "execution_count": 11,
   "metadata": {},
   "outputs": [
    {
     "name": "stdout",
     "output_type": "stream",
     "text": [
      "[754.97114375 458.58742494   8.88569737]\n"
     ]
    }
   ],
   "source": [
    "dxyz = xyz - np.mean(xyz, axis=0)\n",
    "U,S,V = np.linalg.svd(dxyz, full_matrices=False)\n",
    "\n",
    "V0 = V[0,:]\n",
    "V1 = V[1,:]\n",
    "V2 = V[2,:]\n",
    "if np.dot(np.cross(V0, V1), V2) < 0:\n",
    "    V1 *= -1\n",
    "\n",
    "v1 = np.dot(dxyz, V0)\n",
    "v2 = np.dot(dxyz, V1)\n",
    "v3 = np.dot(dxyz, V2)\n",
    "print(S)"
   ]
  },
  {
   "cell_type": "code",
   "execution_count": 12,
   "metadata": {},
   "outputs": [
    {
     "data": {
      "image/png": "[encoded data removed]",
      "text/plain": [
       "<Figure size 432x288 with 2 Axes>"
      ]
     },
     "metadata": {},
     "output_type": "display_data"
    }
   ],
   "source": [
    "plt.scatter(v1, v2, c=v3)\n",
    "plt.colorbar()\n",
    "plt.axis('equal');"
   ]
  },
  {
   "cell_type": "code",
   "execution_count": 13,
   "metadata": {},
   "outputs": [
    {
     "data": {
      "image/png": "[encoded data removed]",
      "text/plain": [
       "<Figure size 432x288 with 1 Axes>"
      ]
     },
     "metadata": {},
     "output_type": "display_data"
    }
   ],
   "source": [
    "plt.plot(v1, v3, 'b.');"
   ]
  },
  {
   "cell_type": "code",
   "execution_count": 14,
   "metadata": {},
   "outputs": [],
   "source": [
    "F = fits_table()\n",
    "F.device = np.array([l[0] for l in locs])\n",
    "F.name = np.array([l[1] for l in locs])\n",
    "F.x = np.array([l[2] for l in locs])\n",
    "F.y = np.array([l[3] for l in locs])\n",
    "F.z = np.array([l[4] for l in locs])\n",
    "F.xyz = np.array([l[2:] for l in locs])\n",
    "F.v1 = v1\n",
    "F.v2 = v2\n",
    "F.isgif = np.array([name.startswith('GIF') for name in F.name])"
   ]
  },
  {
   "cell_type": "code",
   "execution_count": 15,
   "metadata": {},
   "outputs": [
    {
     "data": {
      "image/png": "[encoded data removed]",
      "text/plain": [
       "<Figure size 432x288 with 1 Axes>"
      ]
     },
     "metadata": {},
     "output_type": "display_data"
    }
   ],
   "source": [
    "GIF = F[F.isgif]\n",
    "\n",
    "plt.plot(GIF.v1, GIF.v2, 'b.')\n",
    "plt.axis('equal');"
   ]
  },
  {
   "cell_type": "code",
   "execution_count": 16,
   "metadata": {},
   "outputs": [],
   "source": [
    "T = fits_table('gfa-metrology-transforms.fits')"
   ]
  },
  {
   "cell_type": "code",
   "execution_count": 17,
   "metadata": {},
   "outputs": [
    {
     "name": "stdout",
     "output_type": "stream",
     "text": [
      "tabledata object with 6 rows and 13 columns:\n",
      "   gfa_num (<class 'numpy.ndarray'>) shape (6,) dtype uint8\n",
      "   gif_1_mm_x (<class 'numpy.ndarray'>) shape (6, 4) dtype >f4\n",
      "   gif_1_mm_y (<class 'numpy.ndarray'>) shape (6, 4) dtype >f4\n",
      "   gif_1_pix_x (<class 'numpy.ndarray'>) shape (6, 4) dtype >f4\n",
      "   gif_1_pix_y (<class 'numpy.ndarray'>) shape (6, 4) dtype >f4\n",
      "   gif_2_mm_x (<class 'numpy.ndarray'>) shape (6, 4) dtype >f4\n",
      "   gif_2_mm_y (<class 'numpy.ndarray'>) shape (6, 4) dtype >f4\n",
      "   gif_2_pix_x (<class 'numpy.ndarray'>) shape (6, 4) dtype >f4\n",
      "   gif_2_pix_y (<class 'numpy.ndarray'>) shape (6, 4) dtype >f4\n",
      "   mm_x_coeffs (<class 'numpy.ndarray'>) shape (6, 3) dtype >f4\n",
      "   mm_y_coeffs (<class 'numpy.ndarray'>) shape (6, 3) dtype >f4\n",
      "   pix_x_coeffs (<class 'numpy.ndarray'>) shape (6, 3) dtype >f4\n",
      "   pix_y_coeffs (<class 'numpy.ndarray'>) shape (6, 3) dtype >f4\n"
     ]
    }
   ],
   "source": [
    "T.about()"
   ]
  },
  {
   "cell_type": "code",
   "execution_count": 18,
   "metadata": {},
   "outputs": [
    {
     "data": {
      "text/plain": [
       "10"
      ]
     },
     "execution_count": 18,
     "metadata": {},
     "output_type": "execute_result"
    }
   ],
   "source": [
    "t = (T[(T.gfa_num == gfanum)])[0]\n",
    "t.gfa_num"
   ]
  },
  {
   "cell_type": "code",
   "execution_count": 19,
   "metadata": {},
   "outputs": [
    {
     "data": {
      "image/png": "[encoded data removed]",
      "text/plain": [
       "<Figure size 432x288 with 1 Axes>"
      ]
     },
     "metadata": {},
     "output_type": "display_data"
    }
   ],
   "source": [
    "plt.plot(t.gif_1_mm_x, t.gif_1_mm_y, 'b.')\n",
    "plt.plot(t.gif_2_mm_x, t.gif_2_mm_y, 'r.')\n",
    "plt.axis('equal');"
   ]
  },
  {
   "cell_type": "code",
   "execution_count": 20,
   "metadata": {},
   "outputs": [],
   "source": [
    "devids = np.unique(GIF.device)\n",
    "assert(len(devids) == 2)\n",
    "GIF1 = GIF[GIF.device == devids[0]]\n",
    "GIF2 = GIF[GIF.device == devids[1]]"
   ]
  },
  {
   "cell_type": "code",
   "execution_count": 21,
   "metadata": {},
   "outputs": [
    {
     "data": {
      "text/plain": [
       "62.40126241758099"
      ]
     },
     "execution_count": 21,
     "metadata": {},
     "output_type": "execute_result"
    }
   ],
   "source": [
    "np.hypot(np.mean(GIF1.v1) - np.mean(GIF2.v1), np.mean(GIF1.v2) - np.mean(GIF2.v2))"
   ]
  },
  {
   "cell_type": "code",
   "execution_count": 22,
   "metadata": {},
   "outputs": [
    {
     "data": {
      "text/plain": [
       "62.412764359540624"
      ]
     },
     "execution_count": 22,
     "metadata": {},
     "output_type": "execute_result"
    }
   ],
   "source": [
    "np.sqrt(np.sum((np.mean(GIF1.xyz, axis=0) - np.mean(GIF2.xyz, axis=0))**2))"
   ]
  },
  {
   "cell_type": "code",
   "execution_count": 23,
   "metadata": {},
   "outputs": [
    {
     "data": {
      "text/plain": [
       "62.45566"
      ]
     },
     "execution_count": 23,
     "metadata": {},
     "output_type": "execute_result"
    }
   ],
   "source": [
    "np.hypot(np.mean(t.gif_1_mm_x) - np.mean(t.gif_2_mm_x), np.mean(t.gif_1_mm_y) - np.mean(t.gif_2_mm_y))"
   ]
  },
  {
   "cell_type": "code",
   "execution_count": 66,
   "metadata": {},
   "outputs": [],
   "source": [
    "from focalplane_ss import focal_surface_ss"
   ]
  },
  {
   "cell_type": "code",
   "execution_count": 67,
   "metadata": {},
   "outputs": [],
   "source": [
    "from scipy.interpolate import InterpolatedUnivariateSpline\n",
    "                                               \n",
    "rz = np.array([[float(w) for w in line.split('\\t')] for line in focal_surface_ss.split('\\n')])\n",
    "Ropt,Zopt = rz[:,0], rz[:,1]\n",
    "Zoptics = InterpolatedUnivariateSpline(Ropt, Zopt)"
   ]
  },
  {
   "cell_type": "code",
   "execution_count": 26,
   "metadata": {},
   "outputs": [
    {
     "data": {
      "text/plain": [
       "(420.0, 401.0, -19.931676, -18.050405)"
      ]
     },
     "execution_count": 26,
     "metadata": {},
     "output_type": "execute_result"
    }
   ],
   "source": [
    "Ropt[-1], Ropt[-20], Zopt[-1], Zopt[-20]"
   ]
  },
  {
   "cell_type": "code",
   "execution_count": 27,
   "metadata": {},
   "outputs": [
    {
     "data": {
      "image/png": "[encoded data removed]",
      "text/plain": [
       "<Figure size 432x288 with 1 Axes>"
      ]
     },
     "metadata": {},
     "output_type": "display_data"
    }
   ],
   "source": [
    "plt.plot(Ropt, Zopt)\n",
    "plt.axis('equal');"
   ]
  },
  {
   "cell_type": "code",
   "execution_count": 28,
   "metadata": {},
   "outputs": [
    {
     "data": {
      "text/plain": [
       "(array([-14.41659003, -14.40120479, -14.45794909, -14.4995766 ]),\n",
       " array([-18.91923017, -18.97402678, -19.00189416, -19.08480707]))"
      ]
     },
     "execution_count": 28,
     "metadata": {},
     "output_type": "execute_result"
    }
   ],
   "source": [
    "Zoptics(np.hypot(GIF1.x, GIF1.y)), Zoptics(np.hypot(GIF2.x, GIF2.y))"
   ]
  },
  {
   "cell_type": "code",
   "execution_count": 29,
   "metadata": {},
   "outputs": [
    {
     "data": {
      "text/plain": [
       "(array([-14.60754158, -14.60875232, -14.6438099 , -14.72795736]),\n",
       " array([-19.23479474, -19.30996078, -19.31089874, -19.43406316]))"
      ]
     },
     "execution_count": 29,
     "metadata": {},
     "output_type": "execute_result"
    }
   ],
   "source": [
    "GIF1.z, GIF2.z"
   ]
  },
  {
   "cell_type": "code",
   "execution_count": 30,
   "metadata": {},
   "outputs": [
    {
     "data": {
      "text/plain": [
       "(array([-0.19095155, -0.20754753, -0.18586081, -0.22838076]),\n",
       " array([-0.31556457, -0.335934  , -0.30900458, -0.34925609]))"
      ]
     },
     "execution_count": 30,
     "metadata": {},
     "output_type": "execute_result"
    }
   ],
   "source": [
    "(GIF1.z - Zoptics(np.hypot(GIF1.x, GIF1.y)), GIF2.z - Zoptics(np.hypot(GIF2.x, GIF2.y)))"
   ]
  },
  {
   "cell_type": "code",
   "execution_count": 68,
   "metadata": {},
   "outputs": [],
   "source": [
    "Spoly = np.array([9.95083E-06, 9.99997E-01, 1.79466E-07, 1.76983E-09,\n",
    "         7.24320E-11, -5.74381E-13, 3.28356E-15, -1.10626E-17,\n",
    "         1.89154E-20, -1.25367E-23])"
   ]
  },
  {
   "cell_type": "code",
   "execution_count": 69,
   "metadata": {},
   "outputs": [],
   "source": [
    "radius = np.linspace(0, 420, 421)\n",
    "S = np.zeros_like(radius)\n",
    "for i,s in enumerate(Spoly):\n",
    "    S += s * radius**i"
   ]
  },
  {
   "cell_type": "code",
   "execution_count": 72,
   "metadata": {},
   "outputs": [
    {
     "data": {
      "image/png": "[encoded data removed]",
      "text/plain": [
       "<Figure size 432x288 with 1 Axes>"
      ]
     },
     "metadata": {},
     "output_type": "display_data"
    }
   ],
   "source": [
    "plt.plot(radius, S, 'b-');"
   ]
  },
  {
   "cell_type": "code",
   "execution_count": 74,
   "metadata": {},
   "outputs": [
    {
     "data": {
      "image/png": "[encoded data removed]",
      "text/plain": [
       "<Figure size 432x288 with 1 Axes>"
      ]
     },
     "metadata": {},
     "output_type": "display_data"
    }
   ],
   "source": [
    "plt.plot(radius, S-radius, 'b-');"
   ]
  },
  {
   "cell_type": "code",
   "execution_count": 76,
   "metadata": {},
   "outputs": [],
   "source": [
    "from platescale_ss import platescale_ss"
   ]
  },
  {
   "cell_type": "code",
   "execution_count": 113,
   "metadata": {},
   "outputs": [],
   "source": [
    "psss = np.array([[float(w) for w in line.split('\\t')] for line in platescale_ss.split('\\n')])\n",
    "Rps, Mps, Sps = psss[:,0], psss[:,6], psss[:,7]\n",
    "\n",
    "Mpsfunc = InterpolatedUnivariateSpline(Rps, Mps)\n",
    "Spsfunc = InterpolatedUnivariateSpline(Rps, Sps)"
   ]
  },
  {
   "cell_type": "code",
   "execution_count": 81,
   "metadata": {},
   "outputs": [
    {
     "data": {
      "image/png": "[encoded data removed]",
      "text/plain": [
       "<Figure size 432x288 with 1 Axes>"
      ]
     },
     "metadata": {},
     "output_type": "display_data"
    }
   ],
   "source": [
    "plt.plot(Rps, Mps, 'b-')\n",
    "plt.plot(Rps, Sps, 'r-')\n",
    "plt.xlabel('Radius (mm)')\n",
    "plt.ylabel('Plate scale (um/arcsec)');"
   ]
  },
  {
   "cell_type": "code",
   "execution_count": 133,
   "metadata": {},
   "outputs": [],
   "source": [
    "# Fit in arcsec/mm, not um/arcsec\n",
    "Mangle = InterpolatedUnivariateSpline(Rps, 1000./Mps).antiderivative()"
   ]
  },
  {
   "cell_type": "code",
   "execution_count": 136,
   "metadata": {},
   "outputs": [
    {
     "data": {
      "image/png": "[encoded data removed]",
      "text/plain": [
       "<Figure size 432x288 with 1 Axes>"
      ]
     },
     "metadata": {},
     "output_type": "display_data"
    }
   ],
   "source": [
    "plt.plot(Rps, Mangle(Rps)/3600., 'b-');"
   ]
  },
  {
   "cell_type": "code",
   "execution_count": null,
   "metadata": {},
   "outputs": [],
   "source": []
  },
  {
   "cell_type": "code",
   "execution_count": null,
   "metadata": {},
   "outputs": [],
   "source": []
  },
  {
   "cell_type": "code",
   "execution_count": null,
   "metadata": {},
   "outputs": [],
   "source": []
  },
  {
   "cell_type": "code",
   "execution_count": null,
   "metadata": {},
   "outputs": [],
   "source": []
  },
  {
   "cell_type": "code",
   "execution_count": null,
   "metadata": {},
   "outputs": [],
   "source": []
  },
  {
   "cell_type": "code",
   "execution_count": 82,
   "metadata": {},
   "outputs": [
    {
     "data": {
      "text/plain": [
       "(361.10526356684755, 410.7169515376716)"
      ]
     },
     "execution_count": 82,
     "metadata": {},
     "output_type": "execute_result"
    }
   ],
   "source": [
    "gif1x, gif1y = 295.568779, 207.451460\n",
    "gif2x, gif2y = 357.223911, 202.680763\n",
    "gif1r = np.hypot(gif1x, gif1y)\n",
    "gif2r = np.hypot(gif2x, gif2y)\n",
    "gif1r, gif2r"
   ]
  },
  {
   "cell_type": "code",
   "execution_count": 84,
   "metadata": {},
   "outputs": [
    {
     "data": {
      "image/png": "[encoded data removed]",
      "text/plain": [
       "<Figure size 432x288 with 1 Axes>"
      ]
     },
     "metadata": {},
     "output_type": "display_data"
    }
   ],
   "source": [
    "plt.plot(Rps, Mps, 'b-')\n",
    "plt.plot(Rps, Sps, 'r-')\n",
    "plt.xlabel('Radius (mm)')\n",
    "plt.ylabel('Plate scale (um/arcsec)')\n",
    "plt.xlim(gif1r, gif2r);"
   ]
  },
  {
   "cell_type": "code",
   "execution_count": 87,
   "metadata": {},
   "outputs": [
    {
     "data": {
      "text/plain": [
       "array([[295.3605812 , 206.2097342 , -14.60754158],\n",
       "       [294.2949159 , 207.4048371 , -14.60875232],\n",
       "       [295.2732336 , 207.2060213 , -14.6438099 ],\n",
       "       [295.1867222 , 208.2015807 , -14.72795736],\n",
       "       [356.8290036 , 201.7718    , -19.23479474],\n",
       "       [356.5695239 , 203.3503807 , -19.30996078],\n",
       "       [357.2882466 , 202.6556593 , -19.31089874],\n",
       "       [357.7477894 , 203.5378982 , -19.43406316]])"
      ]
     },
     "execution_count": 87,
     "metadata": {},
     "output_type": "execute_result"
    }
   ],
   "source": [
    "F.xyz[F.isgif]"
   ]
  },
  {
   "cell_type": "code",
   "execution_count": 91,
   "metadata": {},
   "outputs": [
    {
     "data": {
      "text/plain": [
       "(array([38.302, 39.894, 38.184, 39.039], dtype=float32),\n",
       " array([27.098, 27.263, 28.301, 27.78 ], dtype=float32))"
      ]
     },
     "execution_count": 91,
     "metadata": {},
     "output_type": "execute_result"
    }
   ],
   "source": [
    "t.gif_1_mm_x, t.gif_1_mm_y"
   ]
  },
  {
   "cell_type": "code",
   "execution_count": 332,
   "metadata": {},
   "outputs": [],
   "source": [
    "G = F[F.isgif]\n",
    "G1 = G[:4]\n",
    "G2 = G[4:]\n",
    "va = np.array([np.mean(G1.x), np.mean(G1.y)])\n",
    "vb = np.array([np.mean(G2.x), np.mean(G2.y)])\n",
    "vc = (va + vb) / 2.\n",
    "pa = np.array([np.mean(t.gif_1_mm_x), np.mean(t.gif_1_mm_y)])\n",
    "pb = np.array([np.mean(t.gif_2_mm_x), np.mean(t.gif_2_mm_y)])\n",
    "pc = (pa + pb) / 2.\n",
    "\n",
    "th1 = np.arctan2(vb[1]-va[1], vb[0]-va[0])\n",
    "th2 = np.arctan2(pb[1]-pa[1], pb[0]-pa[0])\n",
    "dth = th1 - th2\n",
    "\n",
    "R = np.array([[np.cos(dth), np.sin(dth)],[-np.sin(dth), np.cos(dth)]])\n",
    "\n",
    "pj = np.vstack((t.gif_1_mm_x, t.gif_1_mm_y)).T\n",
    "pk = np.vstack((t.gif_2_mm_x, t.gif_2_mm_y)).T\n",
    "xy1 = np.dot(R.T, (pj-pc).T).T + vc\n",
    "xy2 = np.dot(R.T, (pk-pc).T).T + vc\n"
   ]
  },
  {
   "cell_type": "code",
   "execution_count": 106,
   "metadata": {},
   "outputs": [],
   "source": [
    "# gfa size (mountain)\n",
    "h,w = 1032, 2048\n",
    "pixx = np.array([1, 1, w, w, 1])\n",
    "pixy = np.array([1, h, h, 1, 1])\n",
    "ccdx = t.mm_x_coeffs[0] + t.mm_x_coeffs[1]*pixx + t.mm_x_coeffs[2]*pixy\n",
    "ccdy = t.mm_y_coeffs[0] + t.mm_y_coeffs[1]*pixx + t.mm_y_coeffs[2]*pixy\n",
    "\n",
    "p = np.vstack((ccdx, ccdy)).T\n",
    "ccdxy = np.dot(R.T, (p-pc).T).T + vc"
   ]
  },
  {
   "cell_type": "code",
   "execution_count": 129,
   "metadata": {},
   "outputs": [],
   "source": [
    "def gfa_pixel_to_focal_xy(pixx, pixy):\n",
    "    ccdx = t.mm_x_coeffs[0] + t.mm_x_coeffs[1]*pixx + t.mm_x_coeffs[2]*pixy\n",
    "    ccdy = t.mm_y_coeffs[0] + t.mm_y_coeffs[1]*pixx + t.mm_y_coeffs[2]*pixy\n",
    "    p = np.vstack((ccdx, ccdy)).T\n",
    "    ccdxy = np.dot(R.T, (p-pc).T).T + vc\n",
    "    return ccdxy[:,0], ccdxy[:,1]"
   ]
  },
  {
   "cell_type": "code",
   "execution_count": 209,
   "metadata": {},
   "outputs": [],
   "source": [
    "def focal_xy_to_gfa_pixel(x, y):\n",
    "    #px = t.pix_x_coeffs[0] + t.pix_x_coeffs[1]*x + t.pix_x_coeffs[2]*y\n",
    "    #py = t.pix_y_coeffs[0] + t.pix_y_coeffs[1]*x + t.pix_y_coeffs[2]*y\n",
    "    #p = np.vstack((px, py)).T\n",
    "    #pxy = np.dot(R, (p-vc).T).T + pc\n",
    "    #return pxy[:,0], pxy[:,1]\n",
    "    xy = np.vstack((x,y)).T\n",
    "    xy = np.dot(R, (xy-vc).T).T + pc\n",
    "    x = xy[:,0]\n",
    "    y = xy[:,1]\n",
    "    px = t.pix_x_coeffs[0] + t.pix_x_coeffs[1]*x + t.pix_x_coeffs[2]*y\n",
    "    py = t.pix_y_coeffs[0] + t.pix_y_coeffs[1]*x + t.pix_y_coeffs[2]*y\n",
    "    return px,py"
   ]
  },
  {
   "cell_type": "code",
   "execution_count": 214,
   "metadata": {},
   "outputs": [],
   "source": [
    "gpx,gpy = focal_xy_to_gfa_pixel(G1.x, G1.y)"
   ]
  },
  {
   "cell_type": "code",
   "execution_count": 211,
   "metadata": {},
   "outputs": [
    {
     "data": {
      "text/plain": [
       "(array([1907.26892858, 2013.41676569, 1964.35432745, 2021.36774924]),\n",
       " array([-2020.91234659, -2031.42782726, -1986.52617113, -1952.12350201]))"
      ]
     },
     "execution_count": 211,
     "metadata": {},
     "output_type": "execute_result"
    }
   ],
   "source": [
    "gpx,gpy"
   ]
  },
  {
   "cell_type": "code",
   "execution_count": 212,
   "metadata": {},
   "outputs": [
    {
     "data": {
      "text/plain": [
       "(array([295.3605847 , 294.29491948, 295.27323704, 295.18672558]),\n",
       " array([206.20974222, 207.40484507, 207.20602922, 208.20158853]))"
      ]
     },
     "execution_count": 212,
     "metadata": {},
     "output_type": "execute_result"
    }
   ],
   "source": [
    "gfa_pixel_to_focal_xy(gpx, gpy)"
   ]
  },
  {
   "cell_type": "code",
   "execution_count": 213,
   "metadata": {},
   "outputs": [
    {
     "data": {
      "text/plain": [
       "(array([295.3605812, 294.2949159, 295.2732336, 295.1867222]),\n",
       " array([206.2097342, 207.4048371, 207.2060213, 208.2015807]))"
      ]
     },
     "execution_count": 213,
     "metadata": {},
     "output_type": "execute_result"
    }
   ],
   "source": [
    "G1.x, G1.y"
   ]
  },
  {
   "cell_type": "code",
   "execution_count": null,
   "metadata": {},
   "outputs": [],
   "source": []
  },
  {
   "cell_type": "code",
   "execution_count": 138,
   "metadata": {},
   "outputs": [
    {
     "data": {
      "image/png": "[encoded data removed]",
      "text/plain": [
       "<Figure size 432x288 with 1 Axes>"
      ]
     },
     "metadata": {},
     "output_type": "display_data"
    }
   ],
   "source": [
    "plt.plot(G.x, G.y, 'b.')\n",
    "plt.plot(xy1[:,0], xy1[:,1], 'rx')\n",
    "plt.plot(xy2[:,0], xy2[:,1], 'mx');\n",
    "ccdx,ccdy = gfa_pixel_to_focal_xy(pixx, pixy)\n",
    "plt.plot(ccdx, ccdy, 'k-')\n",
    "plt.plot(ccdx[0], ccdy[0], 'ko')\n",
    "plt.axis('equal');"
   ]
  },
  {
   "cell_type": "code",
   "execution_count": 176,
   "metadata": {},
   "outputs": [],
   "source": [
    "ccdgridpx, ccdgridpy = np.meshgrid(np.linspace(-1000, 2100, 10), np.linspace(-2100, 1300, 10))\n",
    "ccdgridpx = ccdgridpx.ravel()\n",
    "ccdgridpy = ccdgridpy.ravel()\n",
    "gridx, gridy = gfa_pixel_to_focal_xy(ccdgridpx, ccdgridpy)\n",
    "gridr = np.hypot(gridx, gridy)\n",
    "crpixx,crpixy = (w+1.)/2., (h+1.)/2.\n",
    "crx,cry = gfa_pixel_to_focal_xy(crpixx, crpixy)"
   ]
  },
  {
   "cell_type": "code",
   "execution_count": 152,
   "metadata": {},
   "outputs": [
    {
     "data": {
      "image/png": "[encoded data removed]",
      "text/plain": [
       "<Figure size 432x288 with 1 Axes>"
      ]
     },
     "metadata": {},
     "output_type": "display_data"
    }
   ],
   "source": [
    "plt.plot(G.x, G.y, 'b.')\n",
    "plt.plot(xy1[:,0], xy1[:,1], 'rx')\n",
    "plt.plot(xy2[:,0], xy2[:,1], 'mx');\n",
    "ccdx,ccdy = gfa_pixel_to_focal_xy(pixx, pixy)\n",
    "plt.plot(ccdx, ccdy, 'k-')\n",
    "plt.plot(ccdx[0], ccdy[0], 'ko')\n",
    "plt.plot(gridx, gridy, 'g.')\n",
    "plt.axis('equal');"
   ]
  },
  {
   "cell_type": "code",
   "execution_count": 159,
   "metadata": {},
   "outputs": [
    {
     "data": {
      "text/plain": [
       "(413.1234319298413, 420.0)"
      ]
     },
     "execution_count": 159,
     "metadata": {},
     "output_type": "execute_result"
    }
   ],
   "source": [
    "gridr.max(), Rps.max()"
   ]
  },
  {
   "cell_type": "code",
   "execution_count": 184,
   "metadata": {},
   "outputs": [],
   "source": [
    "deflection = Mangle(gridr)/3600.\n",
    "gridu = deflection * gridx / gridr\n",
    "gridv = deflection * gridy / gridr\n",
    "crr = np.hypot(crx, cry)\n",
    "crd = Mangle(crr)/3600.\n",
    "cru = crd * crx / crr\n",
    "crv = crd * cry / crr"
   ]
  },
  {
   "cell_type": "code",
   "execution_count": 185,
   "metadata": {},
   "outputs": [
    {
     "data": {
      "image/png": "[encoded data removed]",
      "text/plain": [
       "<Figure size 432x288 with 1 Axes>"
      ]
     },
     "metadata": {},
     "output_type": "display_data"
    }
   ],
   "source": [
    "plt.plot(gridu, gridv, 'g.')\n",
    "plt.plot(cru, crv, 'ko')\n",
    "plt.axis('equal');"
   ]
  },
  {
   "cell_type": "code",
   "execution_count": 170,
   "metadata": {},
   "outputs": [
    {
     "data": {
      "text/plain": [
       "(0.02052613821028831, 0.02105035127573477)"
      ]
     },
     "execution_count": 170,
     "metadata": {},
     "output_type": "execute_result"
    }
   ],
   "source": [
    "np.hypot(u[1]-u[0], v[1]-v[0]), np.hypot(u[10]-u[0], v[10]-v[0])"
   ]
  },
  {
   "cell_type": "code",
   "execution_count": 195,
   "metadata": {},
   "outputs": [],
   "source": [
    "from astrometry.util.util import fit_sip_coefficients, Tan, Sip, fit_sip_wcs_py\n",
    "from astrometry.util.starutil_numpy import radectoxyz"
   ]
  },
  {
   "cell_type": "code",
   "execution_count": 223,
   "metadata": {},
   "outputs": [],
   "source": [
    "griddec = gridv\n",
    "gridra  = gridu / np.cos(np.deg2rad(griddec))\n",
    "starxyz = radectoxyz(gridra, griddec)\n",
    "fieldxy = np.vstack((ccdgridpx, ccdgridpy)).T\n",
    "weights = np.ones(len(gridra))\n",
    "nstars = len(gridra)\n",
    "crdec = crv[0]\n",
    "crra  = cru[0] / np.cos(np.deg2rad(crdec))\n",
    "ps = 0.2/3600.\n",
    "tan_in = Tan(crra, crdec, crpixx, crpixy, -ps, 0., 0., ps, float(w), float(h))\n",
    "sip_order = 5\n",
    "inv_order = 5\n",
    "#sip_out = Sip()\n",
    "#fit_sip_coefficients(starxyz, fieldxy, weights, nstars, tan_in, sip_order, inv_order, sip_out)\n",
    "sip = fit_sip_wcs_py(starxyz, fieldxy, weights, tan_in, sip_order, inv_order)\n"
   ]
  },
  {
   "cell_type": "code",
   "execution_count": 224,
   "metadata": {},
   "outputs": [
    {
     "data": {
      "text/plain": [
       "([1.3183189619304632, 0.8601277331043246],\n",
       " 1.3183192248216404,\n",
       " 0.8601279063074118)"
      ]
     },
     "execution_count": 224,
     "metadata": {},
     "output_type": "execute_result"
    }
   ],
   "source": [
    "sip.crval, crra, crdec"
   ]
  },
  {
   "cell_type": "code",
   "execution_count": 225,
   "metadata": {},
   "outputs": [
    {
     "data": {
      "text/plain": [
       "([1024.5, 516.5], 1024.5, 516.5)"
      ]
     },
     "execution_count": 225,
     "metadata": {},
     "output_type": "execute_result"
    }
   ],
   "source": [
    "sip.crpix, crpixx, crpixy"
   ]
  },
  {
   "cell_type": "code",
   "execution_count": 226,
   "metadata": {},
   "outputs": [
    {
     "data": {
      "text/plain": [
       "(-3.467085510621358e-05,\n",
       " 4.4064482462198546e-05,\n",
       " 4.802329721520341e-05,\n",
       " 3.235418941020604e-05)"
      ]
     },
     "execution_count": 226,
     "metadata": {},
     "output_type": "execute_result"
    }
   ],
   "source": [
    "sip.cd"
   ]
  },
  {
   "cell_type": "code",
   "execution_count": 239,
   "metadata": {},
   "outputs": [
    {
     "data": {
      "text/plain": [
       "(array([[-0.54744926,  0.83683888],\n",
       "        [ 0.83683888,  0.54744926]]),\n",
       " array([5.92418991e-05, 5.46550533e-05]),\n",
       " array([[ 0.99875759,  0.04983256],\n",
       "        [-0.04983256,  0.99875759]]))"
      ]
     },
     "execution_count": 239,
     "metadata": {},
     "output_type": "execute_result"
    }
   ],
   "source": [
    "np.linalg.svd(np.array(sip.cd).reshape((2,2)))"
   ]
  },
  {
   "cell_type": "code",
   "execution_count": 227,
   "metadata": {},
   "outputs": [],
   "source": [
    "gpx1,gpy1 = focal_xy_to_gfa_pixel(G1.x, G1.y)\n",
    "gpx2,gpy2 = focal_xy_to_gfa_pixel(G2.x, G2.y)"
   ]
  },
  {
   "cell_type": "code",
   "execution_count": 228,
   "metadata": {},
   "outputs": [],
   "source": []
  },
  {
   "cell_type": "code",
   "execution_count": 236,
   "metadata": {},
   "outputs": [
    {
     "data": {
      "image/png": "[encoded data removed]",
      "text/plain": [
       "<Figure size 432x288 with 1 Axes>"
      ]
     },
     "metadata": {},
     "output_type": "display_data"
    }
   ],
   "source": [
    "sip.crval = [1., 0.]\n",
    "grx,gry = np.meshgrid(np.linspace(-1000, 2100, 10), np.linspace(-2100, 1300, 10))\n",
    "\n",
    "gtr,gtd = sip.wcstan.pixelxy2radec(grx,gry)\n",
    "plt.plot(gtr, gtd, 'bx')\n",
    "\n",
    "grr,grd = sip.pixelxy2radec(grx,gry)\n",
    "plt.plot(grr, grd, 'g.')\n",
    "\n",
    "g1r,g1d = sip.pixelxy2radec(gpx1, gpy1)\n",
    "g2r,g2d = sip.pixelxy2radec(gpx2, gpy2)\n",
    "plt.plot(g1r, g1d, 'ro')\n",
    "plt.plot(g2r, g2d, 'bo')\n",
    "bra,bdec = sip.pixelxy2radec(pixx, pixy)\n",
    "plt.plot(bra, bdec, 'k-')\n",
    "plt.plot(bra[0], bdec[0], 'ko')\n",
    "plt.axis('equal');"
   ]
  },
  {
   "cell_type": "code",
   "execution_count": null,
   "metadata": {},
   "outputs": [],
   "source": []
  },
  {
   "cell_type": "code",
   "execution_count": null,
   "metadata": {},
   "outputs": [],
   "source": []
  },
  {
   "cell_type": "code",
   "execution_count": null,
   "metadata": {},
   "outputs": [],
   "source": []
  },
  {
   "cell_type": "code",
   "execution_count": null,
   "metadata": {},
   "outputs": [],
   "source": []
  },
  {
   "cell_type": "code",
   "execution_count": null,
   "metadata": {},
   "outputs": [],
   "source": []
  },
  {
   "cell_type": "code",
   "execution_count": 115,
   "metadata": {},
   "outputs": [
    {
     "data": {
      "text/plain": [
       "array([392.1295483 , 407.53761454, 405.99086962, 390.52216839,\n",
       "       392.1295483 ])"
      ]
     },
     "execution_count": 115,
     "metadata": {},
     "output_type": "execute_result"
    }
   ],
   "source": [
    "ccdr"
   ]
  },
  {
   "cell_type": "code",
   "execution_count": 116,
   "metadata": {},
   "outputs": [
    {
     "data": {
      "image/png": "[encoded data removed]",
      "text/plain": [
       "<Figure size 432x288 with 1 Axes>"
      ]
     },
     "metadata": {},
     "output_type": "display_data"
    }
   ],
   "source": [
    "ccdx,ccdy = ccdxy[:,0],ccdxy[:,1]\n",
    "ccdr = np.hypot(ccdx,ccdy)\n",
    "plt.plot(Rps, Mps, 'b-')\n",
    "plt.plot(Rps, Sps, 'r-')\n",
    "plt.xlabel('Radius (mm)')\n",
    "plt.ylabel('Plate scale (um/arcsec)')\n",
    "plt.xlim(gif1r, gif2r);\n",
    "ccdrmid = np.mean(ccdr[:4])\n",
    "for r in ccdr:\n",
    "    plt.axvline(r)\n"
   ]
  },
  {
   "cell_type": "code",
   "execution_count": 128,
   "metadata": {},
   "outputs": [
    {
     "data": {
      "image/png": "[encoded data removed]",
      "text/plain": [
       "<Figure size 432x288 with 1 Axes>"
      ]
     },
     "metadata": {},
     "output_type": "display_data"
    }
   ],
   "source": [
    "plt.plot(Rps, Mps / Mpsfunc(ccdrmid), 'b-', label='Radial')\n",
    "plt.plot(Rps, Sps / Spsfunc(ccdrmid), 'r-', label='Tangential')\n",
    "plt.legend()\n",
    "plt.xlabel('Radius (mm)')\n",
    "plt.ylabel('Plate scale / Plate scale at CCD midpoint')\n",
    "plt.xlabel('Focal plane radius (mm)')\n",
    "plt.xlim(gif1r, gif2r)\n",
    "plt.axvline(min(ccdr))\n",
    "plt.axvline(max(ccdr))\n",
    "plt.ylim(0.97, 1.03);"
   ]
  },
  {
   "cell_type": "code",
   "execution_count": 127,
   "metadata": {},
   "outputs": [
    {
     "data": {
      "text/plain": [
       "0.6"
      ]
     },
     "execution_count": 127,
     "metadata": {},
     "output_type": "execute_result"
    }
   ],
   "source": [
    "0.02 * 30"
   ]
  },
  {
   "cell_type": "code",
   "execution_count": null,
   "metadata": {},
   "outputs": [],
   "source": []
  },
  {
   "cell_type": "code",
   "execution_count": null,
   "metadata": {},
   "outputs": [],
   "source": []
  },
  {
   "cell_type": "code",
   "execution_count": null,
   "metadata": {},
   "outputs": [],
   "source": []
  },
  {
   "cell_type": "code",
   "execution_count": 31,
   "metadata": {},
   "outputs": [],
   "source": [
    "r1 = np.mean(np.hypot(GIF1.x, GIF1.y))\n",
    "r2 = np.mean(np.hypot(GIF2.x, GIF2.y))\n",
    "# Eyeballed\n",
    "rccd = 0.75*r2 + 0.25*r1"
   ]
  },
  {
   "cell_type": "code",
   "execution_count": 32,
   "metadata": {},
   "outputs": [
    {
     "data": {
      "text/plain": [
       "(398.1555514881337, 360.5514709546013, 410.6902449993111)"
      ]
     },
     "execution_count": 32,
     "metadata": {},
     "output_type": "execute_result"
    }
   ],
   "source": [
    "rccd, r1, r2"
   ]
  },
  {
   "cell_type": "code",
   "execution_count": 34,
   "metadata": {},
   "outputs": [],
   "source": [
    "dz1 = Zoptics(r1, 1)\n",
    "dz2 = Zoptics(r2, 1)\n",
    "#dz1, dzc, dz2"
   ]
  },
  {
   "cell_type": "code",
   "execution_count": 35,
   "metadata": {},
   "outputs": [],
   "source": [
    "z1 = Zoptics(r1)\n",
    "z2 = Zoptics(r2)\n",
    "zccd = Zoptics(rccd)\n",
    "dzc = Zoptics(rccd, 1)"
   ]
  },
  {
   "cell_type": "code",
   "execution_count": 36,
   "metadata": {},
   "outputs": [
    {
     "data": {
      "text/plain": [
       "(array(-14.44379833),\n",
       " array(-18.99492919),\n",
       " array(-0.09487844),\n",
       " -1.1892721064243226,\n",
       " -1.2157668215310444,\n",
       " 3.5678163192729837,\n",
       " 3.335364040425384,\n",
       " -4.551130861956429)"
      ]
     },
     "execution_count": 36,
     "metadata": {},
     "output_type": "execute_result"
    }
   ],
   "source": [
    "z1, z2, dzc, (r2-rccd)*dzc, z2-zccd, (r1-rccd)*dzc, z1-zccd, z2-z1"
   ]
  },
  {
   "cell_type": "code",
   "execution_count": 37,
   "metadata": {},
   "outputs": [
    {
     "data": {
      "text/plain": [
       "(4.757088425697306, 4.551130861956429)"
      ]
     },
     "execution_count": 37,
     "metadata": {},
     "output_type": "execute_result"
    }
   ],
   "source": [
    "(r1-rccd)*dzc - (r2-rccd)*dzc, z1-z2"
   ]
  },
  {
   "cell_type": "code",
   "execution_count": 38,
   "metadata": {},
   "outputs": [
    {
     "data": {
      "text/plain": [
       "(array([-14.60754158, -14.60875232, -14.6438099 , -14.72795736]),\n",
       " array([-19.23479474, -19.30996078, -19.31089874, -19.43406316]))"
      ]
     },
     "execution_count": 38,
     "metadata": {},
     "output_type": "execute_result"
    }
   ],
   "source": [
    "GIF1.z, GIF2.z"
   ]
  },
  {
   "cell_type": "code",
   "execution_count": 39,
   "metadata": {},
   "outputs": [
    {
     "data": {
      "text/plain": [
       "0.026494715106721856"
      ]
     },
     "execution_count": 39,
     "metadata": {},
     "output_type": "execute_result"
    }
   ],
   "source": [
    "((r2-rccd)*dzc) - (z2-zccd)"
   ]
  },
  {
   "cell_type": "code",
   "execution_count": 40,
   "metadata": {},
   "outputs": [
    {
     "data": {
      "text/plain": [
       "0.23245227884759956"
      ]
     },
     "execution_count": 40,
     "metadata": {},
     "output_type": "execute_result"
    }
   ],
   "source": [
    "((r1-rccd)*dzc) - (z1-zccd)"
   ]
  },
  {
   "cell_type": "code",
   "execution_count": null,
   "metadata": {},
   "outputs": [],
   "source": []
  },
  {
   "cell_type": "code",
   "execution_count": 41,
   "metadata": {},
   "outputs": [],
   "source": [
    "#va = np.array([np.mean(GIF1.v1), np.mean(GIF1.v2)])\n",
    "#vb = np.array([np.mean(GIF2.v1), np.mean(GIF2.v2)])\n",
    "#vf = np.vstack((GIF1.v1, GIF1.v2)).T\n",
    "#vg = np.vstack((GIF2.v1, GIF2.v2)).T\n",
    "#vh = np.vstack((F.v1, F.v2)).T\n",
    "\n",
    "va = np.array([np.mean(GIF1.x), np.mean(GIF1.y)])\n",
    "vb = np.array([np.mean(GIF2.x), np.mean(GIF2.y)])\n",
    "vf = np.vstack((GIF1.x, GIF1.y)).T\n",
    "vg = np.vstack((GIF2.x, GIF2.y)).T\n",
    "vh = np.vstack((F.x, F.y)).T\n",
    "\n",
    "vc = (va + vb) / 2.\n",
    "\n",
    "pa = np.array([np.mean(t.gif_1_mm_x), np.mean(t.gif_1_mm_y)])\n",
    "pb = np.array([np.mean(t.gif_2_mm_x), np.mean(t.gif_2_mm_y)])\n",
    "pc = (pa + pb) / 2.\n",
    "\n",
    "th1 = np.arctan2(vb[1]-va[1], vb[0]-va[0])\n",
    "th2 = np.arctan2(pb[1]-pa[1], pb[0]-pa[0])\n",
    "dth = th1-th2\n",
    "\n",
    "R = np.array([[np.cos(dth), np.sin(dth)],[-np.sin(dth), np.cos(dth)]])\n",
    "vd = va - vc\n",
    "td = np.dot(R, vd) + pc\n",
    "ve = vb - vc\n",
    "te = np.dot(R, ve) + pc\n",
    "\n",
    "tf = np.dot(R, (vf-vc).T).T + pc\n",
    "tg = np.dot(R, (vg-vc).T).T + pc\n",
    "\n",
    "ph = np.vstack((t.gif_1_mm_x, t.gif_1_mm_y)).T\n",
    "pi = np.vstack((t.gif_2_mm_x, t.gif_2_mm_y)).T\n",
    "\n",
    "th = np.dot(R, (vh-vc).T).T + pc"
   ]
  },
  {
   "cell_type": "code",
   "execution_count": null,
   "metadata": {},
   "outputs": [],
   "source": [
    "vh = np.vstack((F.x, F.y)).T\n",
    "th = np.dot(R, (vh-vc).T).T + pc"
   ]
  },
  {
   "cell_type": "code",
   "execution_count": 42,
   "metadata": {},
   "outputs": [
    {
     "data": {
      "image/png": "[encoded data removed]",
      "text/plain": [
       "<Figure size 720x360 with 3 Axes>"
      ]
     },
     "metadata": {},
     "output_type": "display_data"
    }
   ],
   "source": [
    "plt.figure(figsize=(10,5))\n",
    "plt.clf()\n",
    "for i,ax in enumerate([None, (36,42,26,30), (77,81,73,78)]):\n",
    "    plt.subplot(1,3,i+1)\n",
    "    #plt.plot(pa[0],pa[1],'rx')\n",
    "    plt.plot(ph[:,0], ph[:,1], 'ro')\n",
    "    #plt.plot(pb[0],pb[1],'bx')\n",
    "    #if i == 1:\n",
    "    #    for j in range(4):\n",
    "    #        plt.text(ph[j,0], ph[j,1], '%i'%j, ha='right')\n",
    "\n",
    "    plt.plot(pi[:,0], pi[:,1], 'co')\n",
    "\n",
    "    #plt.plot(pd[0],pd[1], 'go')\n",
    "    #plt.plot(pe[0],pe[1], 'mo')\n",
    "    plt.plot(tf[:,0], tf[:,1], 'kx')\n",
    "    #if i == 1:\n",
    "    #    for j in range(4):\n",
    "    #        plt.text(tf[j,0], tf[j,1], '%i'%j, ha='left')\n",
    "\n",
    "    plt.plot(tg[:,0], tg[:,1], 'gx')\n",
    "\n",
    "    #plt.axis('equal')\n",
    "    if ax is not None:\n",
    "        plt.axis(ax)"
   ]
  },
  {
   "cell_type": "code",
   "execution_count": 43,
   "metadata": {},
   "outputs": [
    {
     "data": {
      "image/png": "[encoded data removed]",
      "text/plain": [
       "<Figure size 576x576 with 1 Axes>"
      ]
     },
     "metadata": {},
     "output_type": "display_data"
    }
   ],
   "source": [
    "plt.figure(figsize=(8,8))\n",
    "plt.clf()\n",
    "\n",
    "# gfa size (mountain)\n",
    "h,w = 1032, 2048\n",
    "pixx = np.array([1, 1, w, w, 1])\n",
    "pixy = np.array([1, h, h, 1, 1])\n",
    "ccdx = t.mm_x_coeffs[0] + t.mm_x_coeffs[1]*pixx + t.mm_x_coeffs[2]*pixy\n",
    "ccdy = t.mm_y_coeffs[0] + t.mm_y_coeffs[1]*pixx + t.mm_y_coeffs[2]*pixy\n",
    "\n",
    "plt.plot(ph[:,0], ph[:,1], 'ro', label='GIF1')\n",
    "plt.plot(pi[:,0], pi[:,1], 'co', label='GIF2')\n",
    "plt.plot(th[:,0], th[:,1], 'kx', label='FIF');\n",
    "plt.plot(ccdx, ccdy, 'b-', label='GFA CCD bounds')\n",
    "plt.legend()\n",
    "plt.axis('equal');\n",
    "plt.xlabel('\"x\" (mm)')\n",
    "plt.ylabel('\"y\" (mm)')\n",
    "plt.title('GFA/GIF/FIF tiedown, petal 4')\n",
    "plt.savefig('/tmp/1.png')"
   ]
  },
  {
   "cell_type": "code",
   "execution_count": null,
   "metadata": {},
   "outputs": [],
   "source": []
  },
  {
   "cell_type": "code",
   "execution_count": null,
   "metadata": {},
   "outputs": [],
   "source": []
  },
  {
   "cell_type": "code",
   "execution_count": 44,
   "metadata": {},
   "outputs": [],
   "source": [
    "# DESI-0530-v16 -- focal plane layout\n",
    "#device_location_id\tdevice_type\tX\tY\tZ\n",
    "design_ss = '''0\tPOS\t28.134375\t5.201437\t-0.082419\n",
    "1\tPOS\t38.551296\t5.201448\t-0.152664\n",
    "2\tPOS\t33.343493\t14.253354\t-0.132583\n",
    "3\tPOS\t48.968106\t5.201461\t-0.245266\n",
    "4\tPOS\t43.760371\t14.255653\t-0.214058\n",
    "5\tPOS\t59.384810\t5.201480\t-0.360537\n",
    "6\tPOS\t54.177144\t14.256291\t-0.318053\n",
    "7\tPOS\t48.967142\t23.345351\t-0.298069\n",
    "8\tPOS\t69.800289\t5.201506\t-0.498824\n",
    "9\tPOS\t64.592763\t14.249463\t-0.444873\n",
    "10\tPOS\t59.383858\t23.337718\t-0.413611\n",
    "11\tFIF\t54.182759\t32.395574\t-0.404797\n",
    "12\tPOS\t80.215689\t5.201540\t-0.660539\n",
    "13\tPOS\t75.008287\t14.241437\t-0.594928\n",
    "14\tPOS\t69.800405\t23.299254\t-0.552079\n",
    "15\tPOS\t64.599448\t32.359504\t-0.531959\n",
    "16\tPOS\t90.630976\t5.201583\t-0.846101\n",
    "17\tPOS\t85.423703\t14.236912\t-0.768639\n",
    "18\tPOS\t80.215599\t23.295915\t-0.714161\n",
    "19\tPOS\t75.016034\t32.323704\t-0.682426\n",
    "20\tPOS\t69.786205\t41.395803\t-0.673227\n",
    "21\tPOS\t101.046105\t5.201632\t-1.055932\n",
    "22\tPOS\t95.838980\t14.237022\t-0.966431\n",
    "23\tPOS\t90.630637\t23.299708\t-0.900149\n",
    "24\tPOS\t85.432557\t32.329622\t-0.856874\n",
    "25\tPOS\t80.200656\t41.359380\t-0.835814\n",
    "26\tPOS\t111.461023\t5.201688\t-1.290443\n",
    "27\tPOS\t106.254079\t14.235969\t-1.188700\n",
    "28\tPOS\t101.045606\t23.296309\t-1.110389\n",
    "29\tPOS\t95.848134\t32.326855\t-1.055354\n",
    "30\tPOS\t90.614980\t41.368525\t-1.022718\n",
    "31\tPOS\t85.361306\t50.431334\t-1.012965\n",
    "32\tPOS\t121.875677\t5.201751\t-1.550013\n",
    "33\tPOS\t116.668954\t14.238986\t-1.435858\n",
    "34\tPOS\t111.460452\t23.297031\t-1.345338\n",
    "35\tPOS\t106.263304\t32.326987\t-1.278351\n",
    "36\tPOS\t101.029161\t41.366600\t-1.233845\n",
    "37\tPOS\t95.776854\t50.441734\t-1.212562\n",
    "38\tNON\t90.539726\t59.568980\t-1.215569\n",
    "39\tPOS\t132.290020\t5.201820\t-1.834975\n",
    "40\tPOS\t127.083563\t14.242436\t-1.708249\n",
    "41\tPOS\t121.875109\t23.312745\t-1.605420\n",
    "42\tPOS\t116.677631\t32.345810\t-1.526342\n",
    "43\tPOS\t111.443232\t41.368033\t-1.469701\n",
    "44\tPOS\t106.192152\t50.442824\t-1.436591\n",
    "45\tPOS\t100.955815\t59.573706\t-1.428027\n",
    "46\tPOS\t142.704022\t5.201895\t-2.145600\n",
    "47\tPOS\t137.497877\t14.241743\t-2.006158\n",
    "48\tPOS\t132.289546\t23.328109\t-1.890884\n",
    "49\tPOS\t127.093215\t32.371519\t-1.799643\n",
    "50\tPOS\t121.857174\t41.401574\t-1.730894\n",
    "51\tPOS\t116.607190\t50.444640\t-1.685510\n",
    "52\tPOS\t111.371701\t59.574862\t-1.665163\n",
    "53\tPOS\t106.147709\t68.622231\t-1.667694\n",
    "54\tPOS\t153.117665\t5.201978\t-2.482086\n",
    "55\tPOS\t147.911879\t14.235958\t-2.329817\n",
    "56\tPOS\t142.703742\t23.330238\t-2.201928\n",
    "57\tPOS\t137.506269\t32.376499\t-2.098242\n",
    "58\tPOS\t132.271120\t41.413641\t-2.017254\n",
    "59\tPOS\t127.021981\t50.454549\t-1.959713\n",
    "60\tPOS\t121.787408\t59.563824\t-1.927184\n",
    "61\tPOS\t116.563412\t68.623975\t-1.918115\n",
    "62\tPOS\t163.530944\t5.202069\t-2.844554\n",
    "63\tPOS\t158.325567\t14.241167\t-2.679433\n",
    "64\tPOS\t153.117660\t23.321177\t-2.538751\n",
    "65\tPOS\t147.918667\t32.352849\t-2.422347\n",
    "66\tPOS\t142.685037\t41.415900\t-2.329129\n",
    "67\tPOS\t137.436514\t50.486772\t-2.259620\n",
    "68\tPOS\t132.202886\t59.588974\t-2.214985\n",
    "69\tPOS\t126.978911\t68.612156\t-2.193495\n",
    "70\tPOS\t121.778363\t77.687710\t-2.197208\n",
    "71\tPOS\t173.943870\t5.202169\t-3.233037\n",
    "72\tPOS\t168.738956\t14.240451\t-3.055031\n",
    "73\tPOS\t163.531281\t23.302369\t-2.901472\n",
    "74\tPOS\t158.330800\t32.347757\t-2.772446\n",
    "75\tFIF\t153.098887\t41.393265\t-2.666555\n",
    "76\tPOS\t147.850932\t50.487573\t-2.584842\n",
    "77\tPOS\t142.618180\t59.596960\t-2.528094\n",
    "78\tPOS\t137.394166\t68.637151\t-2.494814\n",
    "79\tPOS\t132.194081\t77.680593\t-2.486192\n",
    "80\tPOS\t184.356463\t5.202278\t-3.647476\n",
    "81\tPOS\t179.152070\t14.237881\t-3.456608\n",
    "82\tPOS\t173.944624\t23.313286\t-3.290323\n",
    "83\tPOS\t168.742846\t32.358998\t-3.148597\n",
    "84\tPOS\t163.512702\t41.389721\t-3.030031\n",
    "85\tPOS\t158.265131\t50.453724\t-2.935460\n",
    "86\tPOS\t153.033251\t59.588635\t-2.866668\n",
    "87\tPOS\t147.809242\t68.640326\t-2.821366\n",
    "88\tPOS\t142.609571\t77.685414\t-2.800809\n",
    "89\tPOS\t137.409794\t86.716472\t-2.803969\n",
    "90\tPOS\t194.768763\t5.202397\t-4.087734\n",
    "91\tPOS\t189.564948\t14.231336\t-3.884058\n",
    "92\tPOS\t184.357651\t23.280410\t-3.704860\n",
    "93\tPOS\t179.154623\t32.342155\t-3.550453\n",
    "94\tPOS\t173.926432\t41.409409\t-3.419611\n",
    "95\tPOS\t168.679209\t50.459776\t-3.312354\n",
    "96\tPOS\t163.448048\t59.556355\t-3.230675\n",
    "97\tPOS\t158.224107\t68.634312\t-3.173432\n",
    "98\tPOS\t153.024816\t77.664324\t-3.140525\n",
    "99\tPOS\t147.825218\t86.706198\t-3.131882\n",
    "100\tPOS\t142.616722\t95.751246\t-3.147111\n",
    "101\tPOS\t205.180829\t5.202527\t-4.553598\n",
    "102\tPOS\t199.977654\t14.228149\t-4.337229\n",
    "103\tPOS\t194.770456\t23.256961\t-4.145219\n",
    "104\tPOS\t189.566012\t32.307850\t-3.977977\n",
    "105\tPOS\t184.340094\t41.387352\t-3.834629\n",
    "106\tPOS\t179.093132\t50.462417\t-3.715005\n",
    "107\tPOS\t173.862650\t59.551524\t-3.620789\n",
    "108\tPOS\t168.638734\t68.605303\t-3.550822\n",
    "109\tPOS\t163.439840\t77.654626\t-3.506024\n",
    "110\tPOS\t158.240184\t86.685466\t-3.485072\n",
    "111\tPOS\t153.031586\t95.726599\t-3.488175\n",
    "112\tPOS\t215.592744\t5.202667\t-5.044797\n",
    "113\tPOS\t210.390253\t14.233781\t-4.815894\n",
    "114\tPOS\t205.183093\t23.257197\t-4.611264\n",
    "115\tPOS\t199.977245\t32.285080\t-4.431206\n",
    "116\tPOS\t194.753631\t41.348039\t-4.275158\n",
    "117\tPOS\t189.506912\t50.462612\t-4.143312\n",
    "118\tPOS\t184.277019\t59.546670\t-4.036566\n",
    "119\tPOS\t179.053197\t68.607518\t-3.954311\n",
    "120\tPOS\t173.854426\t77.638308\t-3.896961\n",
    "121\tPOS\t168.655095\t86.670127\t-3.863853\n",
    "122\tPOS\t163.446281\t95.705959\t-3.854716\n",
    "123\tPOS\t158.248634\t104.741309\t-3.870224\n",
    "124\tPOS\t226.004616\t5.202820\t-5.561013\n",
    "125\tPOS\t220.802775\t14.229185\t-5.319695\n",
    "126\tPOS\t215.595622\t23.261744\t-5.102621\n",
    "127\tPOS\t210.388311\t32.317634\t-4.910212\n",
    "128\tPOS\t205.167155\t41.341782\t-4.741456\n",
    "129\tPOS\t199.920516\t50.426528\t-4.596705\n",
    "130\tPOS\t194.691621\t59.521908\t-4.477607\n",
    "131\tPOS\t189.467524\t68.577093\t-4.382801\n",
    "132\tPOS\t184.268924\t77.622912\t-4.313382\n",
    "133\tPOS\t179.069504\t86.655195\t-4.268042\n",
    "134\tPOS\t173.860831\t95.690899\t-4.246718\n",
    "135\tPOS\t168.663659\t104.721625\t-4.250040\n",
    "136\tPOS\t236.416418\t5.202984\t-6.101909\n",
    "137\tPOS\t231.215143\t14.228888\t-5.848342\n",
    "138\tPOS\t226.008091\t23.252494\t-5.618881\n",
    "139\tPOS\t220.799357\t32.296346\t-5.413915\n",
    "140\tPOS\t215.580565\t41.367331\t-5.233235\n",
    "141\tPOS\t210.334018\t50.389100\t-5.075337\n",
    "142\tPOS\t205.105538\t59.491820\t-4.943851\n",
    "143\tPOS\t199.882451\t68.552724\t-4.836730\n",
    "144\tPOS\t194.682930\t77.592933\t-4.754841\n",
    "145\tPOS\t189.483958\t86.638469\t-4.697482\n",
    "146\tPOS\t184.275264\t95.675817\t-4.663955\n",
    "147\tPOS\t179.078456\t104.707107\t-4.655151\n",
    "148\tPOS\t173.885775\t113.739788\t-4.670876\n",
    "149\tPOS\t246.838139\t5.203163\t-6.667712\n",
    "150\tFIF\t241.627317\t14.223609\t-6.401469\n",
    "151\tPOS\t236.420299\t23.253682\t-6.159827\n",
    "152\tPOS\t231.210442\t32.278714\t-5.942410\n",
    "153\tPOS\t225.994948\t41.335119\t-5.749412\n",
    "154\tPOS\t220.747479\t50.412015\t-5.579621\n",
    "155\tPOS\t215.519290\t59.455303\t-5.435037\n",
    "156\tPOS\t210.296516\t68.523290\t-5.315623\n",
    "157\tPOS\t205.096945\t77.569992\t-5.221518\n",
    "158\tPOS\t199.897878\t86.608920\t-5.151744\n",
    "159\tPOS\t194.689627\t95.659188\t-5.106229\n",
    "160\tPOS\t189.493000\t104.691658\t-5.085266\n",
    "161\tPOS\t184.300546\t113.724981\t-5.088871\n",
    "162\tPOS\t179.106358\t122.756412\t-5.116722\n",
    "163\tPOS\t257.252581\t5.203355\t-7.257219\n",
    "164\tPOS\t252.044444\t14.225931\t-6.979102\n",
    "165\tPOS\t246.832142\t23.247567\t-6.725043\n",
    "166\tPOS\t241.621641\t32.280091\t-6.495493\n",
    "167\tPOS\t236.409626\t41.304861\t-6.290191\n",
    "168\tPOS\t231.161858\t50.379780\t-6.107991\n",
    "169\tPOS\t225.932910\t59.445972\t-5.951322\n",
    "170\tPOS\t220.710026\t68.489860\t-5.819230\n",
    "171\tPOS\t215.510811\t77.540650\t-5.712918\n",
    "172\tPOS\t210.312055\t86.586048\t-5.631009\n",
    "173\tPOS\t205.104645\t95.629603\t-5.573119\n",
    "174\tPOS\t199.907269\t104.672739\t-5.540138\n",
    "175\tPOS\t194.715187\t113.707386\t-5.531610\n",
    "176\tPOS\t189.520745\t122.739141\t-5.547294\n",
    "177\tPOS\t267.667769\t5.203564\t-7.870659\n",
    "178\tPOS\t262.457076\t14.223228\t-7.580439\n",
    "179\tPOS\t257.245228\t23.248210\t-7.314422\n",
    "180\tPOS\t252.034981\t32.272538\t-7.072788\n",
    "181\tPOS\t246.822518\t41.305017\t-6.855427\n",
    "182\tPOS\t241.576687\t50.349591\t-6.660775\n",
    "183\tPOS\t236.347185\t59.413428\t-6.491778\n",
    "184\tPOS\t231.128043\t68.474233\t-6.347859\n",
    "185\tPOS\t225.924551\t77.507637\t-6.228817\n",
    "186\tPOS\t220.726030\t86.556806\t-6.134746\n",
    "187\tPOS\t215.518882\t95.606560\t-6.064743\n",
    "188\tPOS\t210.321473\t104.643918\t-6.019405\n",
    "189\tPOS\t205.129745\t113.686869\t-5.998894\n",
    "190\tPOS\t199.935558\t122.719129\t-6.002410\n",
    "191\tPOS\t194.744335\t131.752958\t-6.030497\n",
    "192\tPOS\t278.094967\t5.203789\t-8.508655\n",
    "193\tPOS\t272.880840\t14.222591\t-8.206283\n",
    "194\tPOS\t267.662804\t23.247127\t-7.927934\n",
    "195\tPOS\t262.450433\t32.272277\t-7.674202\n",
    "196\tPOS\t257.238503\t41.294646\t-7.444760\n",
    "197\tPOS\t251.993690\t50.347747\t-7.238108\n",
    "198\tPOS\t246.762246\t59.383505\t-7.056492\n",
    "199\tPOS\t241.542032\t68.441362\t-6.900271\n",
    "200\tPOS\t236.339412\t77.492988\t-6.769400\n",
    "201\tPOS\t231.139839\t86.523335\t-6.662744\n",
    "202\tPOS\t225.930951\t95.573444\t-6.580426\n",
    "203\tPOS\t220.735635\t104.618025\t-6.523143\n",
    "204\tPOS\t215.544261\t113.658685\t-6.490394\n",
    "205\tPOS\t210.350327\t122.700956\t-6.481986\n",
    "206\tPOS\t205.159459\t131.735505\t-6.497923\n",
    "207\tPOS\t288.520497\t5.204032\t-9.170480\n",
    "208\tPOS\t283.299843\t14.229781\t-8.855715\n",
    "209\tPOS\t278.079780\t23.248036\t-8.565241\n",
    "210\tPOS\t272.860653\t32.273705\t-8.299135\n",
    "211\tPOS\t267.649767\t41.298301\t-8.057807\n",
    "212\tPOS\t262.411205\t50.331000\t-7.839225\n",
    "213\tPOS\t257.182799\t59.378796\t-7.645829\n",
    "214\tPOS\t251.957037\t68.411117\t-7.476803\n",
    "215\tPOS\t246.753235\t77.459791\t-7.333682\n",
    "216\tPOS\t241.554656\t86.509371\t-7.215298\n",
    "217\tPOS\t236.346852\t95.544478\t-7.120554\n",
    "218\tPOS\t231.149812\t104.586756\t-7.050948\n",
    "219\tPOS\t225.958811\t113.631634\t-7.006136\n",
    "220\tPOS\t220.765092\t122.670975\t-6.985460\n",
    "221\tPOS\t215.574184\t131.715951\t-6.989494\n",
    "222\tPOS\t210.382581\t140.750850\t-7.017600\n",
    "223\tPOS\t298.953468\t5.204294\t-9.857001\n",
    "224\tPOS\t293.728561\t14.218382\t-9.529742\n",
    "225\tPOS\t288.505535\t23.257544\t-9.227068\n",
    "226\tPOS\t283.281475\t32.275235\t-8.948564\n",
    "227\tPOS\t278.067188\t41.301079\t-8.695034\n",
    "228\tPOS\t272.827144\t50.336734\t-8.464336\n",
    "229\tPOS\t267.600450\t59.355858\t-8.258622\n",
    "230\tPOS\t262.380923\t68.406696\t-8.078133\n",
    "231\tPOS\t257.168712\t77.430867\t-7.922044\n",
    "232\tPOS\t251.967640\t86.476933\t-7.791341\n",
    "233\tPOS\t246.762098\t95.530283\t-7.684954\n",
    "234\tPOS\t241.563171\t104.560869\t-7.602848\n",
    "235\tPOS\t236.373441\t113.597456\t-7.545742\n",
    "236\tPOS\t231.179947\t122.643407\t-7.513065\n",
    "237\tPOS\t225.989315\t131.685151\t-7.504825\n",
    "238\tPOS\t220.798536\t140.727742\t-7.521000\n",
    "239\tFIF\t215.603297\t149.762750\t-7.561100\n",
    "240\tPOS\t309.394888\t5.204578\t-10.568833\n",
    "241\tPOS\t304.165392\t14.217045\t-10.228797\n",
    "242\tPOS\t298.933687\t23.243163\t-9.913162\n",
    "243\tPOS\t293.710750\t32.275395\t-9.622605\n",
    "244\tPOS\t288.488660\t41.300648\t-9.356448\n",
    "245\tPOS\t283.262855\t50.323803\t-9.114380\n",
    "246\tPOS\t278.029621\t59.359249\t-8.896349\n",
    "247\tPOS\t272.801211\t68.375285\t-8.702714\n",
    "248\tPOS\t267.589952\t77.423349\t-8.534976\n",
    "249\tPOS\t262.380822\t86.446658\t-8.391294\n",
    "250\tPOS\t257.175223\t95.496859\t-8.272705\n",
    "251\tPOS\t251.987934\t104.541895\t-8.179454\n",
    "252\tPOS\t246.787326\t113.571952\t-8.109454\n",
    "253\tPOS\t241.594950\t122.609516\t-8.064452\n",
    "254\tPOS\t236.404576\t131.653657\t-8.044111\n",
    "255\tPOS\t231.216804\t140.694437\t-8.048185\n",
    "256\tPOS\t226.028648\t149.734666\t-8.076585\n",
    "257\tPOS\t319.850121\t5.204885\t-11.307161\n",
    "258\tPOS\t314.612103\t14.217002\t-10.953653\n",
    "259\tPOS\t309.378502\t23.237608\t-10.625208\n",
    "260\tPOS\t304.147696\t32.261157\t-10.321578\n",
    "261\tPOS\t298.923722\t41.293825\t-10.043004\n",
    "262\tPOS\t293.694739\t50.321298\t-9.788509\n",
    "263\tPOS\t288.474419\t59.345236\t-9.558944\n",
    "264\tPOS\t283.240527\t68.372772\t-9.352929\n",
    "265\tPOS\t278.012139\t77.388951\t-9.171448\n",
    "266\tPOS\t272.809994\t86.429959\t-9.016376\n",
    "267\tPOS\t267.593405\t95.455660\t-8.884476\n",
    "268\tPOS\t262.401352\t104.508495\t-8.778994\n",
    "269\tPOS\t257.211709\t113.548234\t-8.697715\n",
    "270\tPOS\t252.014008\t122.580228\t-8.640111\n",
    "271\tPOS\t246.820044\t131.619729\t-8.607269\n",
    "272\tPOS\t241.633103\t140.662841\t-8.599280\n",
    "273\tPOS\t236.444935\t149.703018\t-8.615484\n",
    "274\tPOS\t231.256874\t158.743266\t-8.656044\n",
    "275\tPOS\t330.318532\t5.205216\t-12.073034\n",
    "276\tPOS\t325.078996\t14.216518\t-11.705999\n",
    "277\tPOS\t319.828921\t23.235072\t-11.363253\n",
    "278\tPOS\t314.595961\t32.254673\t-11.046598\n",
    "279\tPOS\t309.365682\t41.280926\t-10.754879\n",
    "280\tPOS\t304.135730\t50.314371\t-10.487863\n",
    "281\tPOS\t298.912497\t59.340436\t-10.245747\n",
    "282\tPOS\t293.686595\t68.356517\t-10.027751\n",
    "283\tPOS\t288.459291\t77.376609\t-9.834108\n",
    "284\tPOS\t283.236538\t86.392020\t-9.665035\n",
    "285\tPOS\t278.024213\t95.437310\t-9.521578\n",
    "286\tPOS\t272.821097\t104.465024\t-9.402689\n",
    "287\tPOS\t267.630443\t113.512587\t-9.309372\n",
    "288\tPOS\t262.441442\t122.550130\t-9.240250\n",
    "289\tPOS\t257.245276\t131.585800\t-9.194988\n",
    "290\tPOS\t252.057751\t140.623250\t-9.174607\n",
    "291\tPOS\t246.867458\t149.670397\t-9.178725\n",
    "292\tPOS\t241.677540\t158.713293\t-9.207083\n",
    "293\tPOS\t340.797188\t5.205575\t-12.867597\n",
    "294\tPOS\t335.552207\t14.218306\t-12.486083\n",
    "295\tPOS\t330.298035\t23.224970\t-12.129266\n",
    "296\tPOS\t325.054239\t32.249735\t-11.798497\n",
    "297\tPOS\t319.819860\t41.272437\t-11.493384\n",
    "298\tPOS\t314.589074\t50.294871\t-11.213326\n",
    "299\tPOS\t309.371478\t59.320811\t-10.958902\n",
    "300\tPOS\t304.150100\t68.340233\t-10.728680\n",
    "301\tPOS\t298.925421\t77.362295\t-10.522758\n",
    "302\tPOS\t293.676715\t86.384136\t-10.339693\n",
    "303\tPOS\t288.453718\t95.402776\t-10.182688\n",
    "304\tPOS\t283.254608\t104.435641\t-10.051900\n",
    "305\tPOS\t278.057515\t113.471479\t-9.945668\n",
    "306\tPOS\t272.870897\t122.512376\t-9.864567\n",
    "307\tPOS\t267.682215\t131.551279\t-9.807628\n",
    "308\tPOS\t262.490887\t140.589317\t-9.774842\n",
    "309\tPOS\t257.291318\t149.636802\t-9.766236\n",
    "310\tPOS\t252.099270\t158.687269\t-9.782557\n",
    "311\tPOS\t246.917324\t167.729911\t-9.823532\n",
    "312\tPOS\t351.280618\t5.205963\t-13.691992\n",
    "313\tPOS\t346.034733\t14.214559\t-13.295560\n",
    "314\tPOS\t340.778866\t23.232078\t-12.924261\n",
    "315\tPOS\t335.530289\t32.234896\t-12.579013\n",
    "316\tPOS\t330.285806\t41.261496\t-12.259553\n",
    "317\tPOS\t325.050884\t50.288478\t-11.965927\n",
    "318\tPOS\t319.828324\t59.302608\t-11.697953\n",
    "319\tPOS\t314.601034\t68.336209\t-11.454655\n",
    "320\tPOS\t309.373021\t77.352030\t-11.235694\n",
    "321\tFIF\t304.144678\t86.373300\t-11.041361\n",
    "322\tPOS\t298.918599\t95.390299\t-10.871596\n",
    "323\tPOS\t293.697158\t104.410906\t-10.726660\n",
    "324\tPOS\t288.499421\t113.443777\t-10.607980\n",
    "325\tPOS\t283.304821\t122.479109\t-10.513948\n",
    "326\tPOS\t278.114386\t131.526696\t-10.444905\n",
    "327\tPOS\t272.923365\t140.568834\t-10.400054\n",
    "328\tPOS\t267.728162\t149.605054\t-10.379125\n",
    "329\tPOS\t262.526411\t158.657932\t-10.382758\n",
    "330\tPOS\t257.345257\t167.706617\t-10.411861\n",
    "331\tNON\t252.162106\t176.750314\t-10.465030\n",
    "332\tPOS\t361.783127\t5.206384\t-14.549105\n",
    "333\tPOS\t356.530930\t14.220045\t-14.136500\n",
    "334\tPOS\t351.271491\t23.232906\t-13.749722\n",
    "335\tPOS\t346.019309\t32.245241\t-13.389574\n",
    "336\tPOS\t340.768571\t41.247595\t-13.055163\n",
    "337\tPOS\t335.525469\t50.277241\t-12.747047\n",
    "338\tPOS\t330.294391\t59.301199\t-12.465020\n",
    "339\tPOS\t325.070982\t68.316073\t-12.208444\n",
    "340\tPOS\t319.851287\t77.335954\t-11.977046\n",
    "341\tPOS\t314.623303\t86.355671\t-11.769773\n",
    "342\tPOS\t309.393767\t95.374515\t-11.587014\n",
    "343\tPOS\t304.167566\t104.400012\t-11.429209\n",
    "344\tPOS\t298.948599\t113.421707\t-11.296325\n",
    "345\tPOS\t293.750911\t122.455935\t-11.189651\n",
    "346\tPOS\t288.553193\t131.494549\t-11.107533\n",
    "347\tPOS\t283.363186\t140.541106\t-11.050585\n",
    "348\tPOS\t278.169146\t149.589855\t-11.017886\n",
    "349\tPOS\t272.969703\t158.626925\t-11.008879\n",
    "350\tPOS\t267.784582\t167.675147\t-11.025557\n",
    "351\tPOS\t262.605756\t176.725473\t-11.067107\n",
    "352\tPOS\t372.304572\t5.206842\t-15.440826\n",
    "353\tPOS\t367.046904\t14.222657\t-15.011204\n",
    "354\tPOS\t361.784479\t23.239621\t-14.608186\n",
    "355\tPOS\t356.519189\t32.251191\t-14.231495\n",
    "356\tPOS\t351.267336\t41.266855\t-13.882142\n",
    "357\tPOS\t346.014080\t50.267603\t-13.558386\n",
    "358\tPOS\t340.775422\t59.295836\t-13.261679\n",
    "359\tPOS\t335.555016\t68.318525\t-12.991660\n",
    "360\tPOS\t330.326002\t77.329411\t-12.745911\n",
    "361\tPOS\t325.099923\t86.353919\t-12.525580\n",
    "362\tPOS\t319.868254\t95.368418\t-12.329484\n",
    "363\tPOS\t314.637249\t104.387907\t-12.158275\n",
    "364\tPOS\t309.427165\t113.415438\t-12.013390\n",
    "365\tPOS\t304.208643\t122.438262\t-11.892373\n",
    "366\tPOS\t299.007270\t131.474777\t-11.797446\n",
    "367\tPOS\t293.812414\t140.513049\t-11.727514\n",
    "368\tPOS\t288.618081\t149.564277\t-11.682528\n",
    "369\tPOS\t283.434521\t158.608349\t-11.662486\n",
    "370\tPOS\t278.235112\t167.644897\t-11.665619\n",
    "371\tPOS\t273.048024\t176.699716\t-11.694696\n",
    "372\tPOS\t267.869980\t185.752885\t-11.748763\n",
    "373\tPOS\t382.851708\t5.207341\t-16.369647\n",
    "374\tPOS\t377.581275\t14.225697\t-15.921480\n",
    "375\tPOS\t372.310360\t23.245507\t-15.500886\n",
    "376\tPOS\t367.036487\t32.265703\t-15.107224\n",
    "377\tPOS\t361.774214\t41.273042\t-14.741197\n",
    "378\tPOS\t356.521510\t50.285321\t-14.402351\n",
    "379\tPOS\t351.271943\t59.289571\t-14.089663\n",
    "380\tPOS\t346.050117\t68.310962\t-13.805129\n",
    "381\tPOS\t340.826055\t77.330498\t-13.545841\n",
    "382\tPOS\t335.598169\t86.342713\t-13.311368\n",
    "383\tPOS\t330.367518\t95.360056\t-13.101863\n",
    "384\tPOS\t325.135653\t104.372163\t-12.917097\n",
    "385\tPOS\t319.908601\t113.396362\t-12.757811\n",
    "386\tPOS\t314.691225\t122.433475\t-12.624339\n",
    "387\tPOS\t309.471704\t131.456899\t-12.515035\n",
    "388\tPOS\t304.271509\t140.492776\t-12.432075\n",
    "389\tPOS\t299.077457\t149.538764\t-12.374455\n",
    "390\tPOS\t293.895890\t158.584419\t-12.342237\n",
    "391\tPOS\t288.714729\t167.629767\t-12.334575\n",
    "392\tPOS\t283.515091\t176.664566\t-12.349843\n",
    "393\tPOS\t278.343637\t185.717251\t-12.392174\n",
    "394\tPOS\t393.424937\t5.207884\t-17.337325\n",
    "395\tPOS\t388.140778\t14.229285\t-16.869737\n",
    "396\tPOS\t382.863296\t23.247053\t-16.430889\n",
    "397\tPOS\t377.591794\t32.264029\t-16.020274\n",
    "398\tPOS\t372.323203\t41.277959\t-15.637166\n",
    "399\tPOS\t367.059580\t50.285702\t-15.281291\n",
    "400\tPOS\t361.805862\t59.294163\t-14.952744\n",
    "401\tPOS\t356.557594\t68.302202\t-14.650789\n",
    "402\tPOS\t351.332946\t77.326055\t-14.376874\n",
    "403\tPOS\t346.106481\t86.351068\t-14.128452\n",
    "404\tPOS\t340.874021\t95.367865\t-13.904804\n",
    "405\tPOS\t335.640990\t104.385298\t-13.706357\n",
    "406\tPOS\t330.406184\t113.397881\t-13.532738\n",
    "407\tPOS\t325.172714\t122.420562\t-13.384453\n",
    "408\tPOS\t319.951289\t131.457285\t-13.262356\n",
    "409\tPOS\t314.740071\t140.488302\t-13.165650\n",
    "410\tPOS\t309.544573\t149.527366\t-13.095060\n",
    "411\tPOS\t304.359611\t158.566940\t-13.049907\n",
    "412\tPOS\t299.178985\t167.613923\t-13.029974\n",
    "413\tPOS\t293.998533\t176.660957\t-13.034708\n",
    "414\tPOS\t288.801639\t185.695643\t-13.062499\n",
    "415\tPOS\t283.637442\t194.747780\t-13.117824\n",
    "416\tPOS\t404.081201\t5.208477\t-18.350559\n",
    "417\tPOS\t398.738956\t14.225389\t-17.858705\n",
    "418\tPOS\t393.449077\t23.249638\t-17.400470\n",
    "419\tPOS\t388.167805\t32.268975\t-16.971185\n",
    "420\tPOS\t382.890716\t41.283512\t-16.570017\n",
    "421\tPOS\t377.618145\t50.294466\t-16.196593\n",
    "422\tPOS\t372.348713\t59.303226\t-15.850413\n",
    "423\tPOS\t367.092929\t68.311732\t-15.532043\n",
    "424\tPOS\t361.850852\t77.323843\t-15.241188\n",
    "425\tPOS\t356.626281\t86.349467\t-14.978049\n",
    "426\tPOS\t351.396985\t95.375716\t-14.740313\n",
    "427\tPOS\t346.159685\t104.396074\t-14.527379\n",
    "428\tPOS\t340.921924\t113.416595\t-14.339816\n",
    "429\tPOS\t335.673666\t122.435172\t-14.176645\n",
    "430\tPOS\t330.441604\t131.452755\t-14.039819\n",
    "431\tPOS\t325.231465\t140.491382\t-13.930301\n",
    "432\tPOS\t320.024196\t149.522514\t-13.845693\n",
    "433\tPOS\t314.833968\t158.562743\t-13.787499\n",
    "434\tPOS\t309.652699\t167.606302\t-13.754882\n",
    "435\tPOS\t304.467332\t176.653076\t-13.746898\n",
    "436\tPOS\t299.297680\t185.703512\t-13.764947\n",
    "437\tPOS\t294.103927\t194.734795\t-13.805322\n",
    "438\tNON\t288.953309\t203.790235\t-13.874466\n",
    "439\tFIF\t409.474266\t14.197003\t-18.898949\n",
    "440\tPOS\t404.122544\t23.218728\t-18.415962\n",
    "441\tPOS\t398.819158\t32.244354\t-17.966249\n",
    "442\tPOS\t393.534784\t41.265881\t-17.546494\n",
    "443\tPOS\t388.254349\t50.281413\t-17.154860\n",
    "444\tPOS\t382.975029\t59.289875\t-16.790698\n",
    "445\tPOS\t377.695835\t68.298438\t-16.453664\n",
    "446\tPOS\t372.431600\t77.312536\t-16.144837\n",
    "447\tPOS\t367.188181\t86.331367\t-15.864379\n",
    "448\tPOS\t361.959983\t95.356349\t-15.611525\n",
    "449\tPOS\t356.724409\t104.385028\t-15.384085\n",
    "450\tPOS\t351.492977\t113.402714\t-15.182459\n",
    "451\tPOS\t346.256488\t122.421077\t-15.005980\n",
    "452\tPOS\t341.024728\t131.441075\t-14.855323\n",
    "453\tPOS\t335.785391\t140.454435\t-14.729134\n",
    "454\tPOS\t330.586206\t149.495602\t-14.632116\n",
    "455\tPOS\t325.380123\t158.528685\t-14.559383\n",
    "456\tPOS\t320.190631\t167.570784\t-14.513241\n",
    "457\tPOS\t315.006255\t176.615530\t-14.492562\n",
    "458\tPOS\t309.825442\t185.662528\t-14.497202\n",
    "459\tPOS\t304.656415\t194.714323\t-14.527854\n",
    "460\tNON\t299.461566\t203.749679\t-14.580945\n",
    "461\tETC\t409.459957\t32.248592\t-18.998638\n",
    "462\tPOS\t404.147873\t41.278355\t-18.558247\n",
    "463\tPOS\t398.858533\t50.299485\t-18.148110\n",
    "464\tPOS\t393.573850\t59.315593\t-17.766165\n",
    "465\tPOS\t388.290327\t68.325855\t-17.411751\n",
    "466\tPOS\t383.007996\t77.333682\t-17.084608\n",
    "467\tPOS\t377.741454\t86.343664\t-16.785829\n",
    "468\tPOS\t372.508215\t95.364327\t-16.516812\n",
    "469\tPOS\t367.283208\t104.387676\t-16.274875\n",
    "470\tPOS\t362.050127\t113.406552\t-16.058209\n",
    "471\tPOS\t356.818155\t122.425394\t-15.867516\n",
    "472\tPOS\t351.580840\t131.442079\t-15.702025\n",
    "473\tPOS\t346.344975\t140.462498\t-15.562338\n",
    "474\tPOS\t341.111212\t149.483456\t-15.448292\n",
    "475\tPOS\t335.907947\t158.521088\t-15.362587\n",
    "476\tPOS\t330.709526\t167.562969\t-15.302688\n",
    "477\tPOS\t325.519300\t176.606974\t-15.268721\n",
    "478\tNON\t320.337006\t185.652998\t-15.260616\n",
    "479\tNON\t315.158929\t194.701275\t-15.278089\n",
    "480\tNON\t309.989652\t203.755799\t-15.321672\n",
    "481\tNON\t304.801298\t212.798938\t-15.388569\n",
    "482\tFIF\t404.225409\t59.321591\t-18.784086\n",
    "483\tPOS\t398.935554\t68.338881\t-18.411840\n",
    "484\tPOS\t393.644277\t77.349185\t-18.066866\n",
    "485\tPOS\t388.358798\t86.355441\t-17.749620\n",
    "486\tPOS\t383.089415\t95.372899\t-17.461089\n",
    "487\tPOS\t377.852793\t104.397078\t-17.202413\n",
    "488\tPOS\t372.624629\t113.420212\t-16.970917\n",
    "489\tPOS\t367.386042\t122.443874\t-16.764765\n",
    "490\tPOS\t362.154678\t131.464561\t-16.585215\n",
    "491\tPOS\t356.909760\t140.486544\t-16.430457\n",
    "492\tPOS\t351.668982\t149.510741\t-16.301908\n",
    "493\tPOS\t346.435663\t158.528282\t-16.199388\n",
    "494\tPOS\t341.232939\t167.564785\t-16.125586\n",
    "495\tPOS\t336.040651\t176.610884\t-16.078466\n",
    "496\tFIF\t330.848478\t185.657667\t-16.056824\n",
    "497\tNON\t325.667527\t194.706751\t-16.061564\n",
    "498\tNON\t320.491841\t203.758362\t-16.092228\n",
    "499\tNON\t315.326169\t212.817798\t-16.149454\n",
    "500\tNON\t404.312382\t77.368452\t-19.089997\n",
    "501\tETC\t399.011224\t86.384671\t-18.754597\n",
    "502\tPOS\t393.721763\t95.393281\t-18.447464\n",
    "503\tPOS\t388.443108\t104.409809\t-18.168602\n",
    "504\tPOS\t383.204612\t113.440147\t-17.920656\n",
    "505\tPOS\t377.954604\t122.477680\t-17.698495\n",
    "506\tPOS\t372.712972\t131.501382\t-17.503138\n",
    "507\tPOS\t367.484156\t140.523431\t-17.335089\n",
    "508\tPOS\t362.238745\t149.545467\t-17.191674\n",
    "509\tPOS\t357.000577\t158.568158\t-17.074874\n",
    "510\tPOS\t351.768135\t167.583942\t-16.984134\n",
    "511\tPOS\t346.569076\t176.623367\t-16.922842\n",
    "512\tPOS\t341.374433\t185.674350\t-16.888103\n",
    "513\tNON\t336.188661\t194.721628\t-16.879595\n",
    "514\tNON\t331.012369\t203.769815\t-16.897523\n",
    "515\tNON\t325.846164\t212.829023\t-16.942429\n",
    "516\tNON\t320.686786\t221.887768\t-17.013540\n",
    "517\tFIF\t393.926712\t113.390039\t-18.918818\n",
    "518\tPOS\t388.652210\t122.444328\t-18.678902\n",
    "519\tPOS\t383.386290\t131.492023\t-18.466484\n",
    "520\tPOS\t378.135810\t140.515642\t-18.281365\n",
    "521\tPOS\t372.908118\t149.543582\t-18.124855\n",
    "522\tPOS\t367.654716\t158.566307\t-17.992142\n",
    "523\tPOS\t362.419686\t167.587405\t-17.887145\n",
    "524\tPOS\t357.190057\t176.613581\t-17.808869\n",
    "525\tPOS\t351.991106\t185.657962\t-17.759959\n",
    "526\tPOS\t346.797988\t194.710169\t-17.737838\n",
    "527\tNON\t341.616862\t203.760230\t-17.742532\n",
    "528\tNON\t336.441256\t212.812569\t-17.773693\n",
    "529\tNON\t331.277862\t221.875049\t-17.832287\n",
    "530\tNON\t326.068172\t230.969235\t-17.915023\n",
    "531\tNON\t383.551879\t149.556603\t-19.092997\n",
    "532\tOPT\t378.312514\t158.597059\t-18.947493\n",
    "533\tOPT\t373.055789\t167.618750\t-18.826166\n",
    "534\tFIF\t367.822967\t176.645359\t-18.733541\n",
    "535\tNON\t362.597006\t185.675302\t-18.667928\n",
    "536\tNON\t357.397057\t194.719958\t-18.631448\n",
    "537\tNON\t352.205528\t203.771149\t-18.622179\n",
    "538\tNON\t347.032787\t212.829122\t-18.641002\n",
    "539\tNON\t341.854447\t221.889013\t-18.685643\n",
    "540\tNON\t336.655826\t230.974664\t-18.756303\n",
    "541\tGIF\t295.568779\t207.451460\t-14.494325\n",
    "542\tGIF\t357.223911\t202.680763\t-19.097053\n",
    "543\tTB0\t23.104558\t12.080089\t-81.920000\n",
    "544\tTB1\t425.250167\t25.264515\t-102.920000\n",
    "545\tTB2\t390.667592\t169.867103\t-102.920000'''"
   ]
  },
  {
   "cell_type": "code",
   "execution_count": 45,
   "metadata": {},
   "outputs": [],
   "source": [
    "def parse_design_ss(ss):\n",
    "    design = []\n",
    "    for line in ss.split('\\n'):\n",
    "        words = line.split('\\t')\n",
    "        design.append((words[1], float(words[2]), float(words[3]), float(words[4])))\n",
    "    return design"
   ]
  },
  {
   "cell_type": "code",
   "execution_count": 46,
   "metadata": {},
   "outputs": [],
   "source": [
    "design = parse_design_ss(design_ss)\n",
    "D = fits_table()\n",
    "D.device = np.array([d[0] for d in design])\n",
    "D.x = np.array([d[1] for d in design])\n",
    "D.y = np.array([d[2] for d in design])\n",
    "D.z = np.array([d[3] for d in design])\n",
    "# Drop tooling balls\n",
    "D = D[np.array([not(d.startswith('TB')) for d in D.device])]"
   ]
  },
  {
   "cell_type": "code",
   "execution_count": 56,
   "metadata": {},
   "outputs": [
    {
     "data": {
      "image/png": "[encoded data removed]",
      "text/plain": [
       "<Figure size 432x288 with 1 Axes>"
      ]
     },
     "metadata": {},
     "output_type": "display_data"
    }
   ],
   "source": [
    "plt.scatter(D.x, D.y, c=D.z, s=1);\n",
    "#plt.colorbar()\n",
    "plt.scatter(xyz[:,0], xyz[:,1], c=xyz[:,2], edgecolors='k');\n",
    "plt.axis('equal');"
   ]
  },
  {
   "cell_type": "code",
   "execution_count": 62,
   "metadata": {},
   "outputs": [
    {
     "data": {
      "text/plain": [
       "[<matplotlib.lines.Line2D at 0x111df3b50>]"
      ]
     },
     "execution_count": 62,
     "metadata": {},
     "output_type": "execute_result"
    },
    {
     "data": {
      "image/png": "[encoded data removed]",
      "text/plain": [
       "<Figure size 432x288 with 1 Axes>"
      ]
     },
     "metadata": {},
     "output_type": "display_data"
    }
   ],
   "source": [
    "plt.plot(tp[:,0], tp[:,1], 'k.', label='POS')\n"
   ]
  },
  {
   "cell_type": "code",
   "execution_count": 64,
   "metadata": {},
   "outputs": [
    {
     "data": {
      "image/png": "[encoded data removed]",
      "text/plain": [
       "<Figure size 576x576 with 1 Axes>"
      ]
     },
     "metadata": {},
     "output_type": "display_data"
    }
   ],
   "source": [
    "plt.figure(figsize=(8,8))\n",
    "plt.clf()\n",
    "plt.subplots_adjust(left=0.08, bottom=0.08, top=0.95, right=0.99)\n",
    "\n",
    "P = D[D.device == 'POS']\n",
    "vp = np.vstack((P.x, P.y)).T\n",
    "tp = np.dot(R, (vp-vc).T).T + pc\n",
    "\n",
    "# gfa size (mountain)\n",
    "h,w = 1032, 2048\n",
    "pixx = np.array([1, 1, w, w, 1])\n",
    "pixy = np.array([1, h, h, 1, 1])\n",
    "ccdx = t.mm_x_coeffs[0] + t.mm_x_coeffs[1]*pixx + t.mm_x_coeffs[2]*pixy\n",
    "ccdy = t.mm_y_coeffs[0] + t.mm_y_coeffs[1]*pixx + t.mm_y_coeffs[2]*pixy\n",
    "\n",
    "plt.plot(ph[:,0], ph[:,1], 'ro', label='GIF1')\n",
    "plt.plot(pi[:,0], pi[:,1], 'co', label='GIF2')\n",
    "plt.plot(th[:,0], th[:,1], 'kx', label='FIF');\n",
    "plt.plot(tp[:,0], tp[:,1], 'k.', label='POS')\n",
    "plt.plot(ccdx, ccdy, 'b-', label='GFA CCD bounds')\n",
    "plt.legend()\n",
    "plt.axis('equal');\n",
    "plt.xlabel('\"x\" (mm)')\n",
    "plt.ylabel('\"y\" (mm)')\n",
    "plt.title('GFA/GIF/FIF tiedown, petal 4')\n",
    "plt.savefig('/tmp/1.png')"
   ]
  },
  {
   "cell_type": "code",
   "execution_count": 48,
   "metadata": {},
   "outputs": [
    {
     "data": {
      "text/plain": [
       "10"
      ]
     },
     "execution_count": 48,
     "metadata": {},
     "output_type": "execute_result"
    }
   ],
   "source": [
    "Dfifs = D[D.device == 'FIF']\n",
    "len(Dfifs)"
   ]
  },
  {
   "cell_type": "code",
   "execution_count": 49,
   "metadata": {},
   "outputs": [
    {
     "data": {
      "image/png": "[encoded data removed]",
      "text/plain": [
       "<Figure size 432x288 with 1 Axes>"
      ]
     },
     "metadata": {},
     "output_type": "display_data"
    }
   ],
   "source": [
    "plt.plot(D.x, D.z, 'b.');\n",
    "plt.plot(xyz[:,0], xyz[:,2], 'ro');"
   ]
  },
  {
   "cell_type": "code",
   "execution_count": 58,
   "metadata": {},
   "outputs": [
    {
     "data": {
      "image/png": "[encoded data removed]",
      "text/plain": [
       "<Figure size 432x288 with 1 Axes>"
      ]
     },
     "metadata": {},
     "output_type": "display_data"
    }
   ],
   "source": [
    "plt.plot(np.hypot(D.x, D.y), D.z, 'b.');\n",
    "plt.plot(np.hypot(xyz[:,0],xyz[:,1]), xyz[:,2], 'ro');"
   ]
  },
  {
   "cell_type": "code",
   "execution_count": 50,
   "metadata": {},
   "outputs": [],
   "source": [
    "I,J,d = match_xy(Dfifs.x, Dfifs.y, xyz[:,0], xyz[:,1], 10.)"
   ]
  },
  {
   "cell_type": "code",
   "execution_count": 51,
   "metadata": {},
   "outputs": [
    {
     "data": {
      "text/plain": [
       "(10, 48, 40)"
      ]
     },
     "execution_count": 51,
     "metadata": {},
     "output_type": "execute_result"
    }
   ],
   "source": [
    "len(Dfifs), len(xyz), len(I)"
   ]
  },
  {
   "cell_type": "code",
   "execution_count": 52,
   "metadata": {},
   "outputs": [
    {
     "data": {
      "image/png": "[encoded data removed]",
      "text/plain": [
       "<Figure size 432x288 with 1 Axes>"
      ]
     },
     "metadata": {},
     "output_type": "display_data"
    }
   ],
   "source": [
    "plt.plot(Dfifs.x[I] - xyz[J,0], Dfifs.y[I] - xyz[J,1], 'b.');\n",
    "plt.axis('equal');"
   ]
  },
  {
   "cell_type": "code",
   "execution_count": 53,
   "metadata": {},
   "outputs": [],
   "source": [
    "I,J,d = match_xy(Dfifs.x, Dfifs.y, xyz[:,0], xyz[:,1], 0.5)"
   ]
  },
  {
   "cell_type": "code",
   "execution_count": 54,
   "metadata": {},
   "outputs": [
    {
     "data": {
      "text/plain": [
       "(10, 10, 48)"
      ]
     },
     "execution_count": 54,
     "metadata": {},
     "output_type": "execute_result"
    }
   ],
   "source": [
    "len(I), len(Dfifs), len(xyz)"
   ]
  },
  {
   "cell_type": "code",
   "execution_count": 55,
   "metadata": {},
   "outputs": [
    {
     "data": {
      "text/plain": [
       "[<matplotlib.lines.Line2D at 0x111d26a50>]"
      ]
     },
     "execution_count": 55,
     "metadata": {},
     "output_type": "execute_result"
    },
    {
     "data": {
      "image/png": "[encoded data removed]",
      "text/plain": [
       "<Figure size 432x288 with 1 Axes>"
      ]
     },
     "metadata": {},
     "output_type": "display_data"
    }
   ],
   "source": [
    "plt.plot(Dfifs.x[I] - xyz[J,0], Dfifs.y[I] - xyz[J,1], 'b.')"
   ]
  },
  {
   "cell_type": "code",
   "execution_count": null,
   "metadata": {},
   "outputs": [],
   "source": []
  },
  {
   "cell_type": "code",
   "execution_count": null,
   "metadata": {},
   "outputs": [],
   "source": []
  },
  {
   "cell_type": "code",
   "execution_count": null,
   "metadata": {},
   "outputs": [],
   "source": []
  },
  {
   "cell_type": "code",
   "execution_count": null,
   "metadata": {},
   "outputs": [],
   "source": [
    "permf = np.zeros(4, int)\n",
    "for i in range(4):\n",
    "    j = np.argmin(np.sqrt(np.sum((ph[i,:] - tf)**2, axis=1)))\n",
    "    permf[i] = j"
   ]
  },
  {
   "cell_type": "code",
   "execution_count": null,
   "metadata": {},
   "outputs": [],
   "source": [
    "ph - tf[permf]"
   ]
  },
  {
   "cell_type": "code",
   "execution_count": null,
   "metadata": {},
   "outputs": [],
   "source": [
    "permg = np.zeros(4, int)\n",
    "for i in range(4):\n",
    "    j = np.argmin(np.sqrt(np.sum((pi[i,:] - tg)**2, axis=1)))\n",
    "    permg[i] = j"
   ]
  },
  {
   "cell_type": "code",
   "execution_count": null,
   "metadata": {},
   "outputs": [],
   "source": [
    "pi-tg[permg]"
   ]
  },
  {
   "cell_type": "code",
   "execution_count": null,
   "metadata": {},
   "outputs": [],
   "source": []
  },
  {
   "cell_type": "code",
   "execution_count": null,
   "metadata": {},
   "outputs": [],
   "source": []
  },
  {
   "cell_type": "code",
   "execution_count": null,
   "metadata": {},
   "outputs": [],
   "source": []
  },
  {
   "cell_type": "code",
   "execution_count": null,
   "metadata": {},
   "outputs": [],
   "source": [
    "N = 8\n",
    "A = np.zeros((N,3))\n",
    "A[:,0] = 1.\n",
    "gfa_gif_x = np.append(t.gif_1_mm_x, t.gif_2_mm_x)\n",
    "gfa_gif_y = np.append(t.gif_1_mm_y, t.gif_2_mm_y)\n",
    "A[:,1] = gfa_gif_x\n",
    "A[:,2] = gfa_gif_y\n",
    "\n",
    "xx = np.append(GIF1.v1, GIF2.v1)\n",
    "yy = np.append(GIF1.v2, GIF2.v2)\n",
    "#xx = np.append(GIF2.v1, GIF1.v1)\n",
    "#yy = np.append(GIF2.v2, GIF1.v2)\n",
    "\n",
    "r = np.linalg.lstsq(A, xx, rcond=None)\n",
    "cx = r[0]\n",
    "r = np.linalg.lstsq(A, yy, rcond=None)\n",
    "cy = r[0]\n",
    "\n",
    "print(cx, cy)\n",
    "\n",
    "fitx = cx[0] + cx[1]*gfa_gif_x + cx[2]*gfa_gif_y\n",
    "fity = cy[0] + cy[1]*gfa_gif_x + cy[2]*gfa_gif_y"
   ]
  },
  {
   "cell_type": "code",
   "execution_count": null,
   "metadata": {},
   "outputs": [],
   "source": []
  },
  {
   "cell_type": "code",
   "execution_count": null,
   "metadata": {},
   "outputs": [],
   "source": [
    "plt.plot(xx, yy, 'b.')\n",
    "plt.plot(fitx, fity, 'gx')"
   ]
  },
  {
   "cell_type": "code",
   "execution_count": null,
   "metadata": {},
   "outputs": [],
   "source": []
  }
 ],
 "metadata": {
  "kernelspec": {
   "display_name": "Python 3",
   "language": "python",
   "name": "python3"
  },
  "language_info": {
   "codemirror_mode": {
    "name": "ipython",
    "version": 3
   },
   "file_extension": ".py",
   "mimetype": "text/x-python",
   "name": "python",
   "nbconvert_exporter": "python",
   "pygments_lexer": "ipython3",
   "version": "3.7.5"
  }
 },
 "nbformat": 4,
 "nbformat_minor": 4
}
