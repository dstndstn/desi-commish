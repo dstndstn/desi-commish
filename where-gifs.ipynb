{
 "cells": [
  {
   "cell_type": "code",
   "execution_count": null,
   "metadata": {},
   "outputs": [],
   "source": [
    "from astrometry.util.fits import *\n",
    "%matplotlib inline\n",
    "import pylab as plt\n",
    "import numpy as np\n",
    "import json\n",
    "from astrometry.util.util import Tan, Sip, fit_sip_wcs_py\n",
    "from astrometry.util.starutil_numpy import radectoxyz, arcsec_between\n",
    "from scipy.interpolate import InterpolatedUnivariateSpline\n",
    "import fitsio"
   ]
  },
  {
   "cell_type": "code",
   "execution_count": null,
   "metadata": {},
   "outputs": [],
   "source": [
    "from mappings import *\n",
    "\n",
    "guide_loc = 8\n",
    "petal_id = petal_loc_to_id[guide_loc]\n",
    "gfa_num = petal_id_to_gfa_num[petal_id]\n",
    "print('Petal id', petal_id)\n",
    "print('GFA#', gfa_num)\n",
    "\n",
    "fn = 'data/sip-petal%i.fits' % petal_id\n",
    "print('Reading', fn)\n",
    "labwcs = Sip(fn)\n",
    "hdr = fitsio.read_header(fn)"
   ]
  },
  {
   "cell_type": "code",
   "execution_count": null,
   "metadata": {},
   "outputs": [],
   "source": [
    "petal_loc_to_id"
   ]
  },
  {
   "cell_type": "code",
   "execution_count": null,
   "metadata": {},
   "outputs": [],
   "source": [
    "prefix = '32840-10-GUIDE%i' % guide_loc\n",
    "skywcs = Tan(prefix + '.wcs')\n",
    "xy = fits_table(prefix + '.axy')\n",
    "rd = fits_table(prefix + '.rdls')\n",
    "img = fitsio.read(prefix + '.fits')\n",
    "corr = fits_table(prefix + '.corr')"
   ]
  },
  {
   "cell_type": "code",
   "execution_count": null,
   "metadata": {},
   "outputs": [],
   "source": [
    "print(skywcs)"
   ]
  },
  {
   "cell_type": "code",
   "execution_count": null,
   "metadata": {},
   "outputs": [],
   "source": [
    "skycd = np.array(skywcs.cd).reshape((2,2))\n",
    "#thsky = np.arctan2(skycd[0,1], skycd[0,0])\n",
    "# x axis\n",
    "#thsky = np.arctan2(skycd[1,0], skycd[0,0])\n",
    "thsky = np.arctan2(skycd[1,0]+skycd[1,1], skycd[0,0]+skycd[0,1])\n"
   ]
  },
  {
   "cell_type": "code",
   "execution_count": null,
   "metadata": {},
   "outputs": [],
   "source": [
    "thsky"
   ]
  },
  {
   "cell_type": "code",
   "execution_count": null,
   "metadata": {},
   "outputs": [],
   "source": [
    "labcd = np.array(labwcs.wcstan.cd).reshape((2,2))\n",
    "#thlab = np.arctan2(labcd[0,1], labcd[0,0])\n",
    "# x axis\n",
    "#thlab = np.arctan2(labcd[1,0], labcd[0,0])\n",
    "# avg of x,y axes\n",
    "thlab = np.arctan2(labcd[1,0]+labcd[1,1], labcd[0,0]+labcd[0,1])\n"
   ]
  },
  {
   "cell_type": "code",
   "execution_count": null,
   "metadata": {},
   "outputs": [],
   "source": [
    "thlab"
   ]
  },
  {
   "cell_type": "code",
   "execution_count": null,
   "metadata": {},
   "outputs": [],
   "source": [
    "labcd"
   ]
  },
  {
   "cell_type": "code",
   "execution_count": null,
   "metadata": {},
   "outputs": [],
   "source": [
    "skycd"
   ]
  },
  {
   "cell_type": "code",
   "execution_count": null,
   "metadata": {},
   "outputs": [],
   "source": [
    "dth = thsky - thlab\n",
    "R = np.array([[np.cos(dth), -np.sin(dth)],[np.sin(dth), np.cos(dth)]])\n",
    "newcd = np.dot(R, labcd)"
   ]
  },
  {
   "cell_type": "code",
   "execution_count": null,
   "metadata": {},
   "outputs": [],
   "source": [
    "newcd"
   ]
  },
  {
   "cell_type": "code",
   "execution_count": null,
   "metadata": {},
   "outputs": [],
   "source": [
    "np.rad2deg(dth)"
   ]
  },
  {
   "cell_type": "code",
   "execution_count": null,
   "metadata": {},
   "outputs": [],
   "source": [
    "plt.plot([0, skycd[0,0]], [0, skycd[1,0]], 'b-')\n",
    "plt.plot([0, skycd[0,1]], [0, skycd[1,1]], 'c-')\n",
    "\n",
    "plt.plot([0, newcd[0,0]], [0, newcd[1,0]], 'r-')\n",
    "plt.plot([0, newcd[0,1]], [0, newcd[1,1]], 'm-')\n",
    "\n",
    "plt.plot([0, labcd[0,0]], [0, labcd[1,0]], 'g-')\n",
    "plt.plot([0, labcd[0,1]], [0, labcd[1,1]], 'k-')\n",
    "\n",
    "plt.axis('equal');"
   ]
  },
  {
   "cell_type": "code",
   "execution_count": null,
   "metadata": {},
   "outputs": [],
   "source": [
    "fitwcs = Sip(labwcs)"
   ]
  },
  {
   "cell_type": "code",
   "execution_count": null,
   "metadata": {},
   "outputs": [],
   "source": [
    "fitwcs.wcstan.set_cd(*newcd.ravel())\n",
    "fitwcs.wcstan.set_crval(*skywcs.crval)"
   ]
  },
  {
   "cell_type": "code",
   "execution_count": null,
   "metadata": {},
   "outputs": [],
   "source": [
    "print(fitwcs)"
   ]
  },
  {
   "cell_type": "code",
   "execution_count": null,
   "metadata": {},
   "outputs": [],
   "source": [
    "plt.figure(figsize=(12,6))\n",
    "#refra = rd.ra\n",
    "#refdec = rd.dec\n",
    "refra = corr.index_ra\n",
    "refdec = corr.index_dec\n",
    "ok,tx,ty = fitwcs.radec2pixelxy(refra, refdec)\n",
    "mn,mx = np.percentile(img.ravel(), [50,99])\n",
    "plt.imshow(np.minimum(img,mx), interpolation='nearest', origin='lower', vmin=mn, vmax=mx*1.2, cmap='gray');\n",
    "ax = plt.axis()\n",
    "plt.plot(tx-1, ty-1, 'o', mec='r', mfc='none',ms=10, mew=2)\n",
    "\n",
    "imx = corr.field_x/1.1\n",
    "imy = corr.field_y\n",
    "plt.plot(imx-1, imy-1, '+', mec='c', mfc='none', ms=15, mew=2);\n",
    "#plt.axis(ax)"
   ]
  },
  {
   "cell_type": "code",
   "execution_count": null,
   "metadata": {},
   "outputs": [],
   "source": [
    "# Undo SIP distortion for pixel locations of stars\n",
    "# Re-fit to reference stars for the TAN terms (with CRPIX=center)"
   ]
  },
  {
   "cell_type": "code",
   "execution_count": null,
   "metadata": {},
   "outputs": [],
   "source": [
    "# SIP_pixelxy2radec: sip_distortion -> tan_pixelxy2radec\n",
    "# xy2radec: xy2iwc, iwc2xyz, xyz2rd\n",
    "\n",
    "# Re-fit: CRVAL, CD rotation.  Scale?"
   ]
  },
  {
   "cell_type": "code",
   "execution_count": null,
   "metadata": {},
   "outputs": [],
   "source": [
    "dixy = np.array([fitwcs.get_distortion(xi,yi) for xi,yi in zip(imx, imy)])"
   ]
  },
  {
   "cell_type": "code",
   "execution_count": null,
   "metadata": {},
   "outputs": [],
   "source": [
    "dix = dixy[:,0]\n",
    "diy = dixy[:,1]"
   ]
  },
  {
   "cell_type": "code",
   "execution_count": null,
   "metadata": {},
   "outputs": [],
   "source": [
    "plt.figure(figsize=(12,6))\n",
    "plt.imshow(np.minimum(img,mx), interpolation='nearest', origin='lower', vmin=mn, vmax=mx*1.2, cmap='gray');\n",
    "ax = plt.axis()\n",
    "plt.plot(imx-1, imy-1, '+', mec='r', mfc='none', ms=15, mew=2);\n",
    "plt.plot(dix-1, diy-1, '+', mec='c', mfc='none', ms=15, mew=2);"
   ]
  },
  {
   "cell_type": "code",
   "execution_count": null,
   "metadata": {},
   "outputs": [],
   "source": [
    "fittan = Tan(fitwcs.wcstan)\n",
    "def move_tan_1(intan, dr, dd, rot):\n",
    "    otan = Tan(intan)\n",
    "    cra,cdec = otan.crval\n",
    "    cd = np.array(otan.cd).reshape((2,2))\n",
    "    otan.set_crval(*(cra+dr, cdec+dd))\n",
    "    R = np.array([[np.cos(rot), -np.sin(rot)],[np.sin(rot), np.cos(rot)]])\n",
    "    rcd = np.dot(R, cd)\n",
    "    otan.set_cd(*rcd.ravel())\n",
    "    return otan\n",
    "    \n",
    "def objective_1(params):\n",
    "    dr,dd,rot = params\n",
    "    otan = move_tan_1(fittan, dr, dd, rot)\n",
    "    ok,xx,yy = otan.radec2pixelxy(refra, refdec)\n",
    "    return np.sum(np.hypot(xx - dix, yy - diy))"
   ]
  },
  {
   "cell_type": "code",
   "execution_count": null,
   "metadata": {},
   "outputs": [],
   "source": [
    "def move_tan_2(intan, dr, dd, rot, scale):\n",
    "    otan = Tan(intan)\n",
    "    cra,cdec = otan.crval\n",
    "    cd = np.array(otan.cd).reshape((2,2))\n",
    "    otan.set_crval(*(cra+dr, cdec+dd))\n",
    "    R = np.array([[np.cos(rot), -np.sin(rot)],[np.sin(rot), np.cos(rot)]])\n",
    "    rcd = np.dot(R, cd)\n",
    "    otan.set_cd(*((1.+scale) * rcd.ravel()))\n",
    "    return otan\n",
    "    \n",
    "def objective_2(params):\n",
    "    dr,dd,rot, scale = params\n",
    "    otan = move_tan_2(fittan, dr, dd, rot, scale)\n",
    "    ok,xx,yy = otan.radec2pixelxy(refra, refdec)\n",
    "    return np.sum(np.hypot(xx - dix, yy - diy))"
   ]
  },
  {
   "cell_type": "code",
   "execution_count": null,
   "metadata": {},
   "outputs": [],
   "source": [
    "from scipy.optimize import minimize"
   ]
  },
  {
   "cell_type": "code",
   "execution_count": null,
   "metadata": {},
   "outputs": [],
   "source": [
    "res1 = minimize(objective_1, np.array([0,0,0]))\n",
    "res1"
   ]
  },
  {
   "cell_type": "code",
   "execution_count": null,
   "metadata": {},
   "outputs": [],
   "source": [
    "res2 = minimize(objective_2, np.array([0.,0.,0.,0.]))\n",
    "res2"
   ]
  },
  {
   "cell_type": "code",
   "execution_count": null,
   "metadata": {},
   "outputs": [],
   "source": [
    "opttan = move_tan_1(fittan, *res1.x)\n",
    "optsip = Sip(fitwcs)\n",
    "optsip.wcstan = opttan"
   ]
  },
  {
   "cell_type": "code",
   "execution_count": null,
   "metadata": {},
   "outputs": [],
   "source": [
    "opttan2 = move_tan_2(fittan, *res2.x)\n",
    "optsip2 = Sip(fitwcs)\n",
    "optsip2.wcstan = opttan2"
   ]
  },
  {
   "cell_type": "code",
   "execution_count": null,
   "metadata": {},
   "outputs": [],
   "source": [
    "print(fittan)\n",
    "print(opttan)\n",
    "print(optsip)\n",
    "print(optsip2)"
   ]
  },
  {
   "cell_type": "code",
   "execution_count": null,
   "metadata": {},
   "outputs": [],
   "source": [
    "plt.figure(figsize=(12,6))\n",
    "plt.imshow(np.minimum(img,mx), interpolation='nearest', origin='lower', vmin=mn, vmax=mx*1.2, cmap='gray');\n",
    "ax = plt.axis()\n",
    "plt.plot(imx-1, imy-1, '+', mec='c', mfc='none', ms=15, mew=2);\n",
    "ok,tx,ty = optsip.radec2pixelxy(refra, refdec)\n",
    "plt.plot(tx-1, ty-1, 'o', mec='r', mfc='none',ms=10, mew=2);"
   ]
  },
  {
   "cell_type": "code",
   "execution_count": null,
   "metadata": {},
   "outputs": [],
   "source": [
    "plt.figure(figsize=(12,6))\n",
    "plt.imshow(np.minimum(img,mx), interpolation='nearest', origin='lower', vmin=mn, vmax=mx*1.2, cmap='gray');\n",
    "ax = plt.axis()\n",
    "plt.plot(imx-1, imy-1, '+', mec='c', mfc='none', ms=15, mew=2);\n",
    "ok,tx,ty = optsip2.radec2pixelxy(refra, refdec)\n",
    "plt.plot(tx-1, ty-1, 'o', mec='r', mfc='none',ms=10, mew=2);"
   ]
  },
  {
   "cell_type": "code",
   "execution_count": null,
   "metadata": {},
   "outputs": [],
   "source": [
    "gif1xy = np.array([(hdr['GIF1X%i'%i], hdr['GIF1Y%i'%i]) for i in range(1,5)])\n",
    "gif2xy = np.array([(hdr['GIF2X%i'%i], hdr['GIF2Y%i'%i]) for i in range(1,5)])"
   ]
  },
  {
   "cell_type": "code",
   "execution_count": null,
   "metadata": {},
   "outputs": [],
   "source": [
    "plt.figure(figsize=(12,6))\n",
    "plt.imshow(np.minimum(img,mx), interpolation='nearest', origin='lower', vmin=mn, vmax=mx*1.2, cmap='gray');\n",
    "ax = plt.axis()\n",
    "plt.plot(imx-1, imy-1, '+', mec='c', mfc='none', ms=15, mew=2);\n",
    "ok,tx,ty = optsip2.radec2pixelxy(refra, refdec)\n",
    "plt.plot(tx-1, ty-1, 'o', mec='r', mfc='none',ms=10, mew=2);\n",
    "plt.plot(gif1xy[:,0], gif1xy[:,1], 'r.')\n",
    "plt.plot(gif2xy[:,0], gif2xy[:,1], 'b.');"
   ]
  },
  {
   "cell_type": "code",
   "execution_count": null,
   "metadata": {},
   "outputs": [],
   "source": [
    "gif1ra,gif1dec = optsip.pixelxy2radec(gif1xy[:,0], gif1xy[:,1])\n",
    "gif2ra,gif2dec = optsip.pixelxy2radec(gif2xy[:,0], gif2xy[:,1])"
   ]
  },
  {
   "cell_type": "code",
   "execution_count": null,
   "metadata": {},
   "outputs": [],
   "source": [
    "h,w = 1032,2048\n",
    "ccdbx,ccdby = [1,w,w,1,1], [1,1,h,h,1]\n",
    "ccdra,ccddec = optsip.pixelxy2radec(ccdbx, ccdby)\n",
    "\n",
    "#sra,sdec = skywcs.pixelxy2radec(ccdbx, ccdby)\n",
    "#plt.plot(sra, sdec, 'g-');\n",
    "#plt.plot(sra[0], sdec[0], 'go');\n",
    "\n",
    "plt.plot(ccdra, ccddec, 'k-');\n",
    "plt.plot(ccdra[0], ccddec[0], 'ko');\n",
    "plt.plot(refra, refdec, 'b+');\n",
    "plt.plot(gif1ra, gif1dec, 'r.')\n",
    "plt.plot(gif2ra, gif2dec, 'b.')\n",
    "plt.axis('equal')\n",
    "xl,xh = plt.xlim()\n",
    "plt.xlim(xh,xl);"
   ]
  },
  {
   "cell_type": "code",
   "execution_count": null,
   "metadata": {},
   "outputs": [],
   "source": []
  },
  {
   "cell_type": "code",
   "execution_count": null,
   "metadata": {},
   "outputs": [],
   "source": []
  },
  {
   "cell_type": "code",
   "execution_count": null,
   "metadata": {},
   "outputs": [],
   "source": []
  },
  {
   "cell_type": "code",
   "execution_count": null,
   "metadata": {},
   "outputs": [],
   "source": []
  },
  {
   "cell_type": "code",
   "execution_count": null,
   "metadata": {},
   "outputs": [],
   "source": []
  },
  {
   "cell_type": "code",
   "execution_count": null,
   "metadata": {},
   "outputs": [],
   "source": []
  },
  {
   "cell_type": "code",
   "execution_count": null,
   "metadata": {},
   "outputs": [],
   "source": []
  },
  {
   "cell_type": "code",
   "execution_count": null,
   "metadata": {},
   "outputs": [],
   "source": []
  },
  {
   "cell_type": "code",
   "execution_count": null,
   "metadata": {},
   "outputs": [],
   "source": [
    "for g in [0,2,3,5,7]:#,8]:\n",
    "    fn = 'gfa-28205-GUIDE%i.wcs' % g\n",
    "    wcs = Tan(fn)\n",
    "    ra,dec = wcs.pixelxy2radec(ccdbx, ccdby)\n",
    "    plt.plot(ra, dec, 'k-')\n",
    "    plt.plot(ra[0], dec[0], 'ko')\n",
    "    plt.text(np.mean(ra), np.mean(dec), 'GUIDE%i'%g)\n",
    "xl,xh = plt.xlim()\n",
    "plt.xlim(xh,xl)\n",
    "plt.xlabel('RA (deg)')\n",
    "plt.ylabel('Dec (deg)')\n"
   ]
  },
  {
   "cell_type": "code",
   "execution_count": null,
   "metadata": {},
   "outputs": [],
   "source": []
  }
 ],
 "metadata": {
  "kernelspec": {
   "display_name": "Python 3",
   "language": "python",
   "name": "python3"
  },
  "language_info": {
   "codemirror_mode": {
    "name": "ipython",
    "version": 3
   },
   "file_extension": ".py",
   "mimetype": "text/x-python",
   "name": "python",
   "nbconvert_exporter": "python",
   "pygments_lexer": "ipython3",
   "version": "3.7.5"
  }
 },
 "nbformat": 4,
 "nbformat_minor": 4
}
